{
 "cells": [
  {
   "cell_type": "code",
   "execution_count": 1,
   "metadata": {},
   "outputs": [],
   "source": [
    "import pandas as pd\n",
    "import ms3 \n",
    "from  ms3.utils import *\n",
    "import os \n",
    "from ms3 import Score\n",
    "import matplotlib.pyplot as plt\n",
    "from sklearn.metrics.pairwise import cosine_similarity\n",
    "import numpy as np\n",
    "from scipy import stats\n",
    "import pretty_midi\n",
    "import statistics\n",
    "# include directory \n",
    "home_dir = '/home/nulpe/Desktop/Tresillo/'"
   ]
  },
  {
   "cell_type": "markdown",
   "metadata": {},
   "source": [
    "# Towards a Rhythmical Definition of the Tressilio beat and a Tracing of it in Popular Music "
   ]
  },
  {
   "cell_type": "markdown",
   "metadata": {},
   "source": [
    "## 1) Introduction & Research Question "
   ]
  },
  {
   "cell_type": "markdown",
   "metadata": {},
   "source": [
    "### 1.1) Research question: \n",
    "\"Can we compute to which extent a defined rhythm, which we refer to as Tresillo rhythm, is used in a given pop song and if so can we measure the intensity of Tresillo rhythm use in top-20-billboard songs over the past twenty years?\"  \n",
    "\n",
    "**Discussion:**  \n",
    "In our project we would like to discuss the use of a rhythm, which we refer to as 'Tresillo rhythm', in the popular music of the last 20 years. We define this rhythm in our project, given secondary literature, and thus obtain a precise notation and formulization of the Tresillo rhythm. Given this definition we can then compute the similarity between the Tresillo rhythm and the rhythm of a given pop song. Thus, we hope to obtain a similarity coefficient which measures how similar the rythm of a given pop song is to our self defined Tresillo rythm. Given the computed similarity coefficients, we hope to measure the use of the Tresillo rhythm in the top 20 billboard songs of the past 20 years (1999-2019).\n"
   ]
  },
  {
   "cell_type": "markdown",
   "metadata": {},
   "source": [
    "### 1.2) Assumptions"
   ]
  },
  {
   "cell_type": "markdown",
   "metadata": {},
   "source": [
    "- The pop songs found in the billboard charts mostly come with a simple melodic and rhythmic structure without a lot of variation troughout the song. We assume that for most pop songs present in the billboard charts, one can identify one dominant rhythm per song.\n",
    "- For our presntation of songs in rhythm space, we also assume that the majority of the songs in the billboard charts is in the time signature of 4/4. Our data exploration justifies this assumption.(There are 420 songs with 4/4, 6 with 3/4 and 16 with changing time signature). \n",
    "- We assume that a time sample of about 30 seconds is suitable to present the main rythm of a pop song. This assumptions is related to the difficultys of finding puplic available midi data for recent pop music. While we couldn't find a data source providing the midi data of the full songs, we managed to find midi data for shorter samples of the songs. The average sample length is 44.1 sec.\n",
    "    "
   ]
  },
  {
   "cell_type": "code",
   "execution_count": 12,
   "metadata": {},
   "outputs": [
    {
     "name": "stdout",
     "output_type": "stream",
     "text": [
      "Samples shorter than 30 sec:  43\n",
      "Samples shorter 40 sec:  226\n",
      "Average sample length 44.124146878913265\n",
      "Standart deveiation sample length 27.048968912254452\n"
     ]
    },
    {
     "data": {
      "image/png": "[encoded data removed]",
      "text/plain": [
       "<Figure size 432x288 with 1 Axes>"
      ]
     },
     "metadata": {
      "needs_background": "light"
     },
     "output_type": "display_data"
    },
    {
     "data": {
      "image/png": "[encoded data removed]",
      "text/plain": [
       "<Figure size 432x288 with 1 Axes>"
      ]
     },
     "metadata": {
      "needs_background": "light"
     },
     "output_type": "display_data"
    }
   ],
   "source": [
    "#Some numbers regarding our song length assumption, not adressed in the former notebooks\n",
    "list_midis = os.listdir(r\"C:/Users/Florian/Documents/GitHub/Tresillo/dataset/project_midi/billboard\")\n",
    "length_midis = []\n",
    "for el in list_midis:\n",
    "    midi_data = pretty_midi.PrettyMIDI(\"C:/Users/Florian/Documents/GitHub/Tresillo/dataset/project_midi/billboard\" +'/'+el)\n",
    "    length_midis.append(midi_data.get_end_time())\n",
    "\n",
    "average_midi_length = (sum(length_midis)/len(length_midis))\n",
    "plt.figure(1)\n",
    "plt.hist(length_midis, 20)\n",
    "midi_length_standart_dev = statistics.stdev(length_midis)\n",
    "\n",
    "short_midis = []\n",
    "for songs in length_midis:\n",
    "    if songs < 60:\n",
    "        short_midis.append(songs)\n",
    "    \n",
    "plt.figure(2)\n",
    "plt.hist(short_midis, 20)\n",
    "\n",
    "counter_30 = 0\n",
    "counter_40 = 0\n",
    "counter_30 = sum (i < 30 for i in length_midis)\n",
    "counter_40 = sum (i < 40 for i in length_midis)\n",
    "print(\"Samples shorter than 30 sec: \" , counter_30)\n",
    "print(\"Samples shorter 40 sec: \"  , counter_40)\n",
    "print (\"Average sample length\" , average_midi_length)\n",
    "print(\"Standart deveiation sample length\" , midi_length_standart_dev)"
   ]
  },
  {
   "cell_type": "markdown",
   "metadata": {},
   "source": [
    "### 1.3) Data Representation\n",
    "Initially our data is represented in the MIDI file format. The representation of music in the MIDI format has the advantage, that often several voices of different instruments are represented in such files. In contrast to musescore, where often only the voice of one instrument (mostly piano) is notated.  \n",
    "However, to obtain a list of onsets of every musical event in a given song, we have to convert our MIDI (.midi) files to Musescore (.mscx) files.  \n",
    "To convert and further analyze our files, we will use the [ms3](https://pypi.org/project/ms3/) python library.  \n",
    "To convert a directory of .midi files to .mscx files we use following command:\n"
   ]
  },
  {
   "cell_type": "code",
   "execution_count": null,
   "metadata": {},
   "outputs": [],
   "source": [
    "path_midi = '/home/nulpe/Desktop/Tresillo/dataset/project_midi/tresillo/'\n",
    "target = '/home/nulpe/Desktop/Tresillo/dataset/project_mscx/mscx_tresillos_billboard/'\n",
    "\n",
    "dir_list = os.listdir(path_midi)\n",
    "\n",
    "for el in dir_list:\n",
    "    convert(path_midi+el, target+el[:-4]+'.mscx', MS='musescore3')"
   ]
  },
  {
   "cell_type": "markdown",
   "metadata": {
    "jupyter": {
     "source_hidden": true
    }
   },
   "source": [
    "**TA instructions**: Precision of Research Question\n",
    "\n",
    "- State the final version of your research question as you understand it now.\n",
    "\n",
    "-  Make all assumptions and hypotheses explicit.\n",
    "\n",
    "- In case Milestone 2 did not include the final data representation that you are analyzing, present the representation you finally used and the necessary steps to get to it.\n",
    "\n",
    "**Thoughts Aurel:** \n",
    " - Reasearch Question: Move to a fuzzy definition of Tresillio-ness: E.g.: \n",
    "    Are pop songs increasingly using a rythm pattern which is similar to a rythm pattern which we reffer to as 'Tresillio rythm'?  \n",
    "    \n",
    " - Assumptions are very important for them. Here we have to note our definition(s) of the Tresillio rythm pattern and how we derive them (incl sources). Furthermore, we have to discuss cases where there are Rythms which are similar to the Tresillio rythm but not equivalent (e.g.: reggaeton) and how we deal with them computationally.  \n",
    " \n",
    " - Here we have to discuss the conversion of our MIDI files to the musescore3 file format. Furthermore, we have to discuss what the musescore3 format offers us, and why it is the better choice for our analysis. \n",
    " \n",
    "  **Toughts Florian:**\n",
    "    -Assumptions:\n",
    "    \n",
    "    -30 second piece of pop song is suitable to identfy the main rythm\n",
    "    \n",
    "    -Main rythm can be identified by counting the onsets\n",
    "    \n",
    "    -the great majority of pop songs comes in 4/4 (not shure if we really need that assumption)\n",
    "    "
   ]
  },
  {
   "cell_type": "markdown",
   "metadata": {},
   "source": [
    "\n",
    "    "
   ]
  },
  {
   "cell_type": "markdown",
   "metadata": {},
   "source": [
    "## 2) Methods"
   ]
  },
  {
   "cell_type": "markdown",
   "metadata": {},
   "source": [
    "### 2.1) Definition of the Tresillo rhythm\n",
    "We notate a clean version of a rhythm wich we from now on use as our defintion for the clean tresillo rhythm, in the following context also called vanilla tresillo(see also (Floyd, 1999))."
   ]
  },
  {
   "attachments": {
    "Tresillo.PNG": {
     "image/png": "[encoded data removed]"
    }
   },
   "cell_type": "markdown",
   "metadata": {},
   "source": [
    "![Tresillo.PNG](attachment:Tresillo.PNG)"
   ]
  },
  {
   "cell_type": "markdown",
   "metadata": {},
   "source": [
    "The rhythm pattern consists of a dotted eighth note, followed by a sixteenth note, an eighth rest and an eighth note and is repeated two times in a 4/4 bar. The rytm pattern is beeing used as a own rythm or as a rythmic part of a more complex rythm, for example the \"clave\" pattern or the ragaetton rythm (Toussaint, 2004).\n",
    "By notating the rythm in MuseScore 3 and saving it as a .mscx file, we can use it our data processing pipeline described in the following sections."
   ]
  },
  {
   "cell_type": "markdown",
   "metadata": {},
   "source": [
    "### 2.2) Rhythm histograms and vectors \n",
    "\n",
    "To be able to measure the similarity between rhythm we must have a clear definition and thus following representation of rhythm. In general, one can define rhythm as \"a series of onsets and durations of musical events.” (Rohrmeier, 2020). In our specific case however, we are interested in the dominat and repeating rhythm of a given song. Therefore we prefer a narrower definition of rhythm as “repeated recurrences in alternate heavy and light beats” (Chin and Wu, 1992). To furthermore simplify our data, we assume that the main rhythm of a song can be defined by the onsets  of its musical events (notes).  \n",
    "To obtain a representation of the dominate rhythm of a song, we preceed to aggregate all musical onset to one bar. Collapsing all musical onsets to one bar and thus obtaining onset 'histograms' is a common pratice and has been used beside others to analyze western classical music (Palmer and Krumhansl, 1990) and american folk music (Huron and Ommen, 2006). \n",
    "With the onset histogram of a song we can compile a n dimensional vector for each song, which we refer to as a 'rhythm vector'. Given that the number of songs with meters other than 4/4 is negible, we only consider songs with a 4/4 meter in our analysis.  Given that we only consider songs with 4/4 meters, we obtain for each song a 16 dimensional vector. \n",
    "\n",
    "\n"
   ]
  },
  {
   "cell_type": "markdown",
   "metadata": {},
   "source": [
    "### 2.3) Naive approach: Rhythm simularity measured with cosine simularity \n",
    "Given the 16 dimensional rhythm vectors we obtain following the methode described above, we can now compute simple similarity metrics.  \n",
    "In rhythm analysis a common similarity metric which is used to calculate the similarity between two rhythm vectors is the cosine distance (see: Panteli et al., 2014; Parry and Essa, 2003).  The cosine similarity metric is scale invariante, which as such is interesting for rhythm similarity given that thus only relative frequencies of onsets are important and not absolute frequencies.  \n",
    "The cosine distance between two vectors A and B is defined as following: \n",
    "\\begin{equation}\n",
    "\\cos ({\\bf A},{\\bf B})= {{\\bf A}*{\\bf B} \\over \\|{\\bf A}\\| \\|{\\bf B}\\|} = \\frac{ \\sum_{i=1}^{n}{{\\bf A}_i{\\bf B}_i} }{ \\sqrt{\\sum_{i=1}^{n}{({\\bf A}_i)^2}} \\sqrt{\\sum_{i=1}^{n}{({\\bf B}_i)^2}} }\n",
    "\\end{equation}\n",
    "\n",
    "Given the definition of the cosine similarity we can now compute the similarity between our self defined Tresillo rhythm and the billboard songs.  \n",
    "First, however we will validate this similarity metric by testing it on our self compiled list of songs which do comprise a Tresillo rhythm and songs which do not comprise a Tresillo rhythm. We then compute the mean 'Tresillo-ness' (similarity to Tresillo rhythm) of both samples. By employing the Bootstrapping method we can also obtain a measurement of uncertainty, as provided by 2.5% and 97.5% confidence intervals."
   ]
  },
  {
   "cell_type": "markdown",
   "metadata": {},
   "source": [
    "### 2.4) Reducing noise: (pushkar)"
   ]
  },
  {
   "cell_type": "markdown",
   "metadata": {
    "jupyter": {
     "source_hidden": true
    }
   },
   "source": [
    "**TA instructions**: \n",
    "- How did you deal with the problems you mentioned in Milestone 2?\n",
    "\n",
    "- Which methods did you use to obtain the final results? Provide self-contained explanations and make sure to cite relevant literature where appropriate.\n",
    "\n",
    "- Explain your core calculations using equations.\n",
    "\n",
    "- Do not describe all the methods you tried out but only those that lead to the results: the final analysis is not an exploratory analysis anymore.\n",
    "\n",
    "- Specify any adjustments you made to pre-existing methods\n",
    "\n",
    "\n",
    "**Thoughts Aurel**:  \n",
    " -  Talk about how we got to the bar representation of our music. Furthermore, also discuss how we get to a 'perfect Tresillio Histogram'\n",
    "    \n",
    " - Here I propose we try out several things and compare the results of several methods:\n",
    " \n",
    "  a) A first big topics is how we define the perfect Tresillo:  \n",
    "   1. Given predefined rythm patterns (by Florian)\n",
    "   2. Given songs with high Tresillio-ness\n",
    "    - All instruments collapsed\n",
    "    - Only key instruments\n",
    "    - Certain instruments  \n",
    "    \n",
    "  a) The second big question is how do we measure Tresillio-ness in the pop songs, I would suggest three approaches. All aproaches require that we first obtain 16 dimensional Rythm vectors of each song of interest:  \n",
    "   1. Compare our vanilla self defined Tresillio rythm vector with all vectors of our pop songs. Measure distance or simularity with some commonly used distance measure in the literature\n",
    "   2. Very similar to 1) but this time use the Tresillio rythm vector as defined by our songs\n",
    "   3. Prior clustering of the rythm vectors. Obtaining centroid and measuring with it Tresillio ness in the charts (method as proposed by Pushkar)\n",
    " \n",
    "- Equations should be included in the prior part\n",
    "- Discuss critically any outliers, problems and limitations of our methodology. Extra focus on the question how we deal with related but not the same rythm (e.g.: Reggaeton)\n",
    "\n",
    "\n",
    "**Toughts Florian**\n",
    "- Following the last paper discussion one measuurement we could use is the Cosin distance \n",
    "- Not sure about an instrument selection. We can mention that a reduction seems not favorable as the tresillo rythm  is presented with different instruments throughout the dataset"
   ]
  },
  {
   "cell_type": "markdown",
   "metadata": {},
   "source": []
  },
  {
   "cell_type": "markdown",
   "metadata": {},
   "source": [
    "## 3) Final Results"
   ]
  },
  {
   "cell_type": "markdown",
   "metadata": {},
   "source": [
    "### 3.1) Onset histograms and rhythm vectors \n",
    "In this first part we will use onset histograms to compute rhythm vectors.  \n",
    "To obtain the onset histogram of a given song, we use the notes representation provided by the [ms3](https://pypi.org/project/ms3/) libary and colapse all musical onsets to one bar. In the example below we will compile the histograms for our self defined 'Vanilla Tresillo' and for the example song 'shape of you' by Ed Sheran. Then we will proceed to compute the rhythm vectors for both songs"
   ]
  },
  {
   "cell_type": "code",
   "execution_count": 30,
   "metadata": {},
   "outputs": [
    {
     "data": {
      "text/plain": [
       "Text(0.5, 1.0, 'Vanilla Tresillo')"
      ]
     },
     "execution_count": 30,
     "metadata": {},
     "output_type": "execute_result"
    },
    {
     "data": {
      "image/png": "[encoded data removed]",
      "text/plain": [
       "<Figure size 864x216 with 2 Axes>"
      ]
     },
     "metadata": {
      "needs_background": "light"
     },
     "output_type": "display_data"
    }
   ],
   "source": [
    "#paths to both examples\n",
    "shape_of_you = home_dir+'dataset/project_mscx/mscx_tresillos_billboard/Shape of you-Ed Sheran.mscx'\n",
    "vanilla_tresillo = home_dir+'dataset/project_mscx/mscx_tresillos/Vanilla_Tresillo.mscx'\n",
    "\n",
    "\n",
    "# get the note scores of both examples \n",
    "df_shape_of_you = Score(shape_of_you).mscx.notes\n",
    "df_vanilla_tresillo = Score(vanilla_tresillo).mscx.notes\n",
    "\n",
    "#calculate quarter note position for each note\n",
    "df_shape_of_you['quarter_beats'] = (df_shape_of_you.mc_onset*16).astype('int32')\n",
    "df_vanilla_tresillo['quarter_beats'] = (df_vanilla_tresillo.mc_onset*16).astype('int32')\n",
    "\n",
    "\n",
    "fig, ax = plt.subplots(1,2, figsize=(12,3))\n",
    "\n",
    "ax[0].hist(df_shape_of_you['quarter_beats'], bins=16)\n",
    "ax[1].hist(df_vanilla_tresillo['quarter_beats'], bins=16)\n",
    "ax[0].set_xlabel('quarter_beats')\n",
    "ax[1].set_xlabel('quarter_beats')\n",
    "ax[0].xaxis.set_ticks(np.arange(0, 16, 1))\n",
    "ax[1].xaxis.set_ticks(np.arange(0, 16, 1))\n",
    "ax[0].set_ylabel('count')\n",
    "ax[0].set_title('Shape of you')\n",
    "ax[1].set_title('Vanilla Tresillo')\n",
    "\n",
    "#mention somewhere that we are working with quarter notes "
   ]
  },
  {
   "cell_type": "markdown",
   "metadata": {},
   "source": [
    "In a next step we want to compile rhythm of each song given this notion of histograms. E.g: every dimension incorporates the absolute frequency of onsets on one given quarter note. This is done as follows:"
   ]
  },
  {
   "cell_type": "code",
   "execution_count": 58,
   "metadata": {},
   "outputs": [
    {
     "data": {
      "text/html": [
       "<div>\n",
       "<style scoped>\n",
       "    .dataframe tbody tr th:only-of-type {\n",
       "        vertical-align: middle;\n",
       "    }\n",
       "\n",
       "    .dataframe tbody tr th {\n",
       "        vertical-align: top;\n",
       "    }\n",
       "\n",
       "    .dataframe thead th {\n",
       "        text-align: right;\n",
       "    }\n",
       "</style>\n",
       "<table border=\"1\" class=\"dataframe\">\n",
       "  <thead>\n",
       "    <tr style=\"text-align: right;\">\n",
       "      <th>quarter_beats</th>\n",
       "      <th>0</th>\n",
       "      <th>1</th>\n",
       "      <th>2</th>\n",
       "      <th>3</th>\n",
       "      <th>4</th>\n",
       "      <th>5</th>\n",
       "      <th>6</th>\n",
       "      <th>7</th>\n",
       "      <th>8</th>\n",
       "      <th>9</th>\n",
       "      <th>10</th>\n",
       "      <th>11</th>\n",
       "      <th>12</th>\n",
       "      <th>13</th>\n",
       "      <th>14</th>\n",
       "      <th>15</th>\n",
       "    </tr>\n",
       "  </thead>\n",
       "  <tbody>\n",
       "    <tr>\n",
       "      <th>count</th>\n",
       "      <td>206</td>\n",
       "      <td>33</td>\n",
       "      <td>44</td>\n",
       "      <td>119</td>\n",
       "      <td>72</td>\n",
       "      <td>37</td>\n",
       "      <td>169</td>\n",
       "      <td>12</td>\n",
       "      <td>200</td>\n",
       "      <td>29</td>\n",
       "      <td>75</td>\n",
       "      <td>112</td>\n",
       "      <td>75</td>\n",
       "      <td>27</td>\n",
       "      <td>167</td>\n",
       "      <td>10</td>\n",
       "    </tr>\n",
       "  </tbody>\n",
       "</table>\n",
       "</div>"
      ],
      "text/plain": [
       "quarter_beats   0   1   2    3   4   5    6   7    8   9   10   11  12  13  \\\n",
       "count          206  33  44  119  72  37  169  12  200  29  75  112  75  27   \n",
       "\n",
       "quarter_beats   14  15  \n",
       "count          167  10  "
      ]
     },
     "execution_count": 58,
     "metadata": {},
     "output_type": "execute_result"
    }
   ],
   "source": [
    "rhythm_vector_shape_you = df_shape_of_you.groupby(['quarter_beats'])['mn'].agg(['count'])\n",
    "rhythm_vector_shape_you  = rhythm_vector_shape_you.reindex(list(range(0,16)),fill_value=0).T\n",
    "rhythm_vector_shape_you "
   ]
  },
  {
   "cell_type": "markdown",
   "metadata": {},
   "source": [
    "In the assumption that the rhythm vectors of distinct voices within a song might include information we want to preserve, we compiled one rhythm vector per instrument in a song as follows:"
   ]
  },
  {
   "cell_type": "code",
   "execution_count": 61,
   "metadata": {},
   "outputs": [
    {
     "data": {
      "text/html": [
       "<div>\n",
       "<style scoped>\n",
       "    .dataframe tbody tr th:only-of-type {\n",
       "        vertical-align: middle;\n",
       "    }\n",
       "\n",
       "    .dataframe tbody tr th {\n",
       "        vertical-align: top;\n",
       "    }\n",
       "\n",
       "    .dataframe thead th {\n",
       "        text-align: right;\n",
       "    }\n",
       "</style>\n",
       "<table border=\"1\" class=\"dataframe\">\n",
       "  <thead>\n",
       "    <tr style=\"text-align: right;\">\n",
       "      <th>quarter_beats</th>\n",
       "      <th>instrument</th>\n",
       "      <th>level_1</th>\n",
       "      <th>0</th>\n",
       "      <th>1</th>\n",
       "      <th>2</th>\n",
       "      <th>3</th>\n",
       "      <th>4</th>\n",
       "      <th>5</th>\n",
       "      <th>6</th>\n",
       "      <th>7</th>\n",
       "      <th>8</th>\n",
       "      <th>9</th>\n",
       "      <th>10</th>\n",
       "      <th>11</th>\n",
       "      <th>12</th>\n",
       "      <th>13</th>\n",
       "      <th>14</th>\n",
       "      <th>15</th>\n",
       "    </tr>\n",
       "  </thead>\n",
       "  <tbody>\n",
       "    <tr>\n",
       "      <th>0</th>\n",
       "      <td>Grand Piano</td>\n",
       "      <td>count</td>\n",
       "      <td>66</td>\n",
       "      <td>0</td>\n",
       "      <td>0</td>\n",
       "      <td>0</td>\n",
       "      <td>0</td>\n",
       "      <td>0</td>\n",
       "      <td>0</td>\n",
       "      <td>0</td>\n",
       "      <td>66</td>\n",
       "      <td>0</td>\n",
       "      <td>0</td>\n",
       "      <td>0</td>\n",
       "      <td>0</td>\n",
       "      <td>0</td>\n",
       "      <td>0</td>\n",
       "      <td>0</td>\n",
       "    </tr>\n",
       "    <tr>\n",
       "      <th>1</th>\n",
       "      <td>Marimba, untitled</td>\n",
       "      <td>count</td>\n",
       "      <td>66</td>\n",
       "      <td>0</td>\n",
       "      <td>0</td>\n",
       "      <td>53</td>\n",
       "      <td>14</td>\n",
       "      <td>0</td>\n",
       "      <td>63</td>\n",
       "      <td>0</td>\n",
       "      <td>68</td>\n",
       "      <td>0</td>\n",
       "      <td>0</td>\n",
       "      <td>57</td>\n",
       "      <td>17</td>\n",
       "      <td>0</td>\n",
       "      <td>63</td>\n",
       "      <td>0</td>\n",
       "    </tr>\n",
       "    <tr>\n",
       "      <th>2</th>\n",
       "      <td>Melodic Drum</td>\n",
       "      <td>count</td>\n",
       "      <td>0</td>\n",
       "      <td>0</td>\n",
       "      <td>33</td>\n",
       "      <td>36</td>\n",
       "      <td>13</td>\n",
       "      <td>19</td>\n",
       "      <td>39</td>\n",
       "      <td>0</td>\n",
       "      <td>0</td>\n",
       "      <td>0</td>\n",
       "      <td>50</td>\n",
       "      <td>28</td>\n",
       "      <td>10</td>\n",
       "      <td>19</td>\n",
       "      <td>38</td>\n",
       "      <td>0</td>\n",
       "    </tr>\n",
       "    <tr>\n",
       "      <th>3</th>\n",
       "      <td>Overdrive Gtr</td>\n",
       "      <td>count</td>\n",
       "      <td>6</td>\n",
       "      <td>2</td>\n",
       "      <td>1</td>\n",
       "      <td>1</td>\n",
       "      <td>4</td>\n",
       "      <td>4</td>\n",
       "      <td>6</td>\n",
       "      <td>2</td>\n",
       "      <td>6</td>\n",
       "      <td>1</td>\n",
       "      <td>6</td>\n",
       "      <td>2</td>\n",
       "      <td>6</td>\n",
       "      <td>1</td>\n",
       "      <td>6</td>\n",
       "      <td>0</td>\n",
       "    </tr>\n",
       "    <tr>\n",
       "      <th>4</th>\n",
       "      <td>Percussion</td>\n",
       "      <td>count</td>\n",
       "      <td>24</td>\n",
       "      <td>23</td>\n",
       "      <td>0</td>\n",
       "      <td>2</td>\n",
       "      <td>19</td>\n",
       "      <td>2</td>\n",
       "      <td>22</td>\n",
       "      <td>2</td>\n",
       "      <td>21</td>\n",
       "      <td>21</td>\n",
       "      <td>1</td>\n",
       "      <td>2</td>\n",
       "      <td>19</td>\n",
       "      <td>2</td>\n",
       "      <td>23</td>\n",
       "      <td>2</td>\n",
       "    </tr>\n",
       "    <tr>\n",
       "      <th>5</th>\n",
       "      <td>Tenor Sax</td>\n",
       "      <td>count</td>\n",
       "      <td>20</td>\n",
       "      <td>8</td>\n",
       "      <td>10</td>\n",
       "      <td>8</td>\n",
       "      <td>16</td>\n",
       "      <td>12</td>\n",
       "      <td>16</td>\n",
       "      <td>8</td>\n",
       "      <td>16</td>\n",
       "      <td>7</td>\n",
       "      <td>18</td>\n",
       "      <td>6</td>\n",
       "      <td>15</td>\n",
       "      <td>5</td>\n",
       "      <td>14</td>\n",
       "      <td>8</td>\n",
       "    </tr>\n",
       "    <tr>\n",
       "      <th>6</th>\n",
       "      <td>Woodblock</td>\n",
       "      <td>count</td>\n",
       "      <td>2</td>\n",
       "      <td>0</td>\n",
       "      <td>0</td>\n",
       "      <td>2</td>\n",
       "      <td>0</td>\n",
       "      <td>0</td>\n",
       "      <td>2</td>\n",
       "      <td>0</td>\n",
       "      <td>2</td>\n",
       "      <td>0</td>\n",
       "      <td>0</td>\n",
       "      <td>1</td>\n",
       "      <td>2</td>\n",
       "      <td>0</td>\n",
       "      <td>2</td>\n",
       "      <td>0</td>\n",
       "    </tr>\n",
       "    <tr>\n",
       "      <th>7</th>\n",
       "      <td>Xylophone</td>\n",
       "      <td>count</td>\n",
       "      <td>22</td>\n",
       "      <td>0</td>\n",
       "      <td>0</td>\n",
       "      <td>17</td>\n",
       "      <td>6</td>\n",
       "      <td>0</td>\n",
       "      <td>21</td>\n",
       "      <td>0</td>\n",
       "      <td>21</td>\n",
       "      <td>0</td>\n",
       "      <td>0</td>\n",
       "      <td>16</td>\n",
       "      <td>6</td>\n",
       "      <td>0</td>\n",
       "      <td>21</td>\n",
       "      <td>0</td>\n",
       "    </tr>\n",
       "  </tbody>\n",
       "</table>\n",
       "</div>"
      ],
      "text/plain": [
       "quarter_beats         instrument level_1   0   1   2   3   4   5   6  7   8  \\\n",
       "0                    Grand Piano   count  66   0   0   0   0   0   0  0  66   \n",
       "1              Marimba, untitled   count  66   0   0  53  14   0  63  0  68   \n",
       "2                   Melodic Drum   count   0   0  33  36  13  19  39  0   0   \n",
       "3                  Overdrive Gtr   count   6   2   1   1   4   4   6  2   6   \n",
       "4                     Percussion   count  24  23   0   2  19   2  22  2  21   \n",
       "5                      Tenor Sax   count  20   8  10   8  16  12  16  8  16   \n",
       "6                      Woodblock   count   2   0   0   2   0   0   2  0   2   \n",
       "7                      Xylophone   count  22   0   0  17   6   0  21  0  21   \n",
       "\n",
       "quarter_beats   9  10  11  12  13  14  15  \n",
       "0               0   0   0   0   0   0   0  \n",
       "1               0   0  57  17   0  63   0  \n",
       "2               0  50  28  10  19  38   0  \n",
       "3               1   6   2   6   1   6   0  \n",
       "4              21   1   2  19   2  23   2  \n",
       "5               7  18   6  15   5  14   8  \n",
       "6               0   0   1   2   0   2   0  \n",
       "7               0   0  16   6   0  21   0  "
      ]
     },
     "execution_count": 61,
     "metadata": {},
     "output_type": "execute_result"
    }
   ],
   "source": [
    "# Define instruments \n",
    "shape_of_you_score = Score(shape_of_you)\n",
    "instrument_dict = {}\n",
    "for key in shape_of_you_score.mscx.metadata['parts']:\n",
    "    for staff in shape_of_you_score.mscx.metadata['parts'][key].keys():\n",
    "            instrument_dict[staff] = key\n",
    "\n",
    "\n",
    "#staff to voice/instruments \n",
    "df_shape_of_you['instrument'] = [instrument_dict[el] if el in instrument_dict else 'na' for el in df_shape_of_you.staff]\n",
    "\n",
    "#compute rhythm vectors per voice\n",
    "rhythm_vector_shape_you_instruments = df_shape_of_you.groupby(['instrument','quarter_beats'])['mn'].agg(['count'])\n",
    "rhythm_vector_shape_you_instruments = rhythm_vector_shape_you_instruments.groupby(level=0).apply(lambda x: x.reset_index(level = 0).drop(['instrument'],axis=1).reindex(list(range(0,16)),fill_value=0).T)\n",
    "rhythm_vector_shape_you_instruments = rhythm_vector_shape_you_instruments.reset_index()\n",
    "rhythm_vector_shape_you_instruments"
   ]
  },
  {
   "cell_type": "markdown",
   "metadata": {},
   "source": [
    "If we want to compile rhythm vectors (per voice) for all mscx files in one directory we can use following loop:"
   ]
  },
  {
   "cell_type": "code",
   "execution_count": null,
   "metadata": {},
   "outputs": [],
   "source": [
    "def rythm_vectors(in_dir, out_dir):\n",
    "    list_sheet_music = os.listdir(in_dir)\n",
    "    df_rythm_vectors =[]\n",
    "\n",
    "    for idx, el in enumerate(list_sheet_music):\n",
    "        if el[-4:] == 'mscx':\n",
    "\n",
    "            \n",
    "            #Get notes with onsets\n",
    "            s = Score(dir_sheet_music+el)\n",
    "            df = s.mscx.notes\n",
    "\n",
    "            # Define instruments \n",
    "            instrument_dict = {}\n",
    "            for key in s.mscx.metadata['parts']:\n",
    "                for staff in s.mscx.metadata['parts'][key].keys():\n",
    "                    instrument_dict[staff] = key\n",
    "\n",
    "\n",
    "            #staff to instruments \n",
    "            df['instrument'] = [instrument_dict[el] if el in instrument_dict else 'na' for el in df.staff]\n",
    "\n",
    "\n",
    "            # define quarter beat \n",
    "            df['quarter_beats'] = (df.mc_onset*16).astype('int32')\n",
    "\n",
    "\n",
    "            #make rythm matrix & data frame\n",
    "            df_histogram = df.groupby(['instrument','quarter_beats'])['mn'].agg(['count'])\n",
    "            df_histogram = df_histogram.groupby(level=0).apply(lambda x: x.reset_index(level = 0).drop(['instrument'],axis=1).reindex(list(range(0,16)),fill_value=0).T)\n",
    "            df_histogram = df_histogram.reset_index()\n",
    "\n",
    "            df_histogram.insert(loc=0, column='song_artist', value=el[:-5])\n",
    "\n",
    "            #concat to big rythm vector df\n",
    "            if len(df_rythm_vectors) == 0: df_rythm_vectors = df_histogram\n",
    "\n",
    "            df_rythm_vectors = pd.concat([df_rythm_vectors,df_histogram], axis=0)\n",
    "\n",
    "    df_rythm_vectors.to_csv(out_dir, index = False)\n",
    "\n",
    "    \n",
    "dir_sheet_music = home_dir + '/dataset/project_mscx/mscx_billboard/'\n",
    "out_dir = home_dir + '/dataset/rythm_vectors/rythm_vectors_billboard.csv'\n",
    "rythm_vectors(dir_sheet_music, out_dir)"
   ]
  },
  {
   "cell_type": "markdown",
   "metadata": {},
   "source": [
    "### 3.2) Tresilio-ness with Cosine Similarity\n",
    "In a first naive analysis we will employ the cosine similarity measurement to assess if the vector of a given song is similar to our defined Tresillo rhythm. We will need some helper functions.    \n",
    "Following two helper functions will help us to collapse all rhythms of all instruments to one rhythm vector per song.  \n",
    "The second function calculates the cosine similarity between a pandas data frame of rhythm vectors and one single rhythm vector.  \n",
    "The third function calculates the 2.5% and the 97.5% confidence intervals of the distribution of a mean of a given data set. This function will allow us to assess, how big the uncerntaingty is in our data set and if the means of two distributions are indeed significantly different."
   ]
  },
  {
   "cell_type": "code",
   "execution_count": 22,
   "metadata": {},
   "outputs": [],
   "source": [
    "def collapse_normalize_vectors(df_rythm_vectors):\n",
    "    rythm_vector_collaped = df_rythm_vectors.groupby(['song_artist']).agg(['sum'])\n",
    "    rythm_vector_collaped.columns = rythm_vector_collaped.columns.droplevel(1)\n",
    "    rythm_vector_collaped = rythm_vector_collaped.drop(['instrument', 'level_1'],axis=1)\n",
    "    rythm_vector_collaped[\"sum\"] = rythm_vector_collaped.sum(axis=1)\n",
    "    rythm_vector_collaped = rythm_vector_collaped.loc[:,\"0\":\"15\"].div(rythm_vector_collaped[\"sum\"], axis=0)\n",
    "    return rythm_vector_collaped\n",
    "\n",
    "def calc_cosine_sim(rythm_vectors, tresillo_vector):\n",
    "    rythm_vectors['cosine_sim_tresillo'] = cosine_similarity(rythm_vectors.loc[:,\"0\":\"15\"],tresillo_vector)\n",
    "    return rythm_vectors\n",
    "\n",
    "def bootstrap_CI(data, nbr_draws):\n",
    "    means = np.zeros(nbr_draws)\n",
    "    data = np.array(data)\n",
    "\n",
    "    for n in range(nbr_draws):\n",
    "        indices = np.random.randint(0, len(data), len(data))\n",
    "        data_tmp = data[indices] \n",
    "        means[n] = np.nanmean(data_tmp)\n",
    "    return [np.nanpercentile(means, 2.5),np.nanpercentile(means, 97.5)]"
   ]
  },
  {
   "cell_type": "markdown",
   "metadata": {},
   "source": [
    "Now lets read in the rhythm vector of our vanilla Tresillo."
   ]
  },
  {
   "cell_type": "code",
   "execution_count": 29,
   "metadata": {},
   "outputs": [
    {
     "data": {
      "text/plain": [
       "array([[20,  0,  0, 20,  0,  0, 20,  0, 20,  0,  0, 20,  0,  0, 20,  0]])"
      ]
     },
     "execution_count": 29,
     "metadata": {},
     "output_type": "execute_result"
    }
   ],
   "source": [
    "df_synt_tresillo = pd.read_csv(home_dir + '/dataset/rythm_vectors/rythm_vectors_tresillio.csv') # read in all defined 'tresillos' and variations\n",
    "df_vanilla_tresillo = df_synt_tresillo[df_synt_tresillo['song_artist']=='Vanilla_Tresillo'].loc[: ,\"0\":\"15\"] # only use the 16d vector of our vanilla_tresillo\n",
    "vector_vanilla_tresillo = np.asarray(df_vanilla_tresillo)\n",
    "vector_vanilla_tresillo"
   ]
  },
  {
   "cell_type": "markdown",
   "metadata": {},
   "source": [
    "We will now calculate the cosine similarity between our vanilla Tresillo vector and between a hand selected set of Tresillo songs.  \n",
    "This set of songs has been selected by us ourself and none of those 'validation' songs  are included in the billboard data sets."
   ]
  },
  {
   "cell_type": "code",
   "execution_count": 74,
   "metadata": {},
   "outputs": [
    {
     "name": "stdout",
     "output_type": "stream",
     "text": [
      "song_artist\n",
      "Attention Charlie Puth                     0.613390\n",
      "Chandelier Sia                             0.605698\n",
      "Cold Water Major Lazer                     0.896750\n",
      "Hips Don't Lie Shakira                     0.819003\n",
      "I Don't Care Ed Sheeran & Justin Bieber    0.876542\n",
      "One Dance - Drake & Wizkid, Kyla Reid      0.717454\n",
      "Rockabye Baby Clean Bandit                 0.880677\n",
      "Sorry Justin Bieber                        0.853424\n",
      "Titanium David Guetta                      0.652046\n",
      "Name: cosine_sim_tresillo, dtype: float64\n"
     ]
    }
   ],
   "source": [
    "\n",
    "tresillo_test_set_vectors = pd.read_csv(home_dir + '/dataset/rythm_vectors/rythm_vectors_tresillo_not_billboard.csv')\n",
    "#tresillo_test_set_vectors = pd.read_csv(home_dir + '/dataset/rythm_vectors/rythm_vectors_tresillos_billboard.csv')\n",
    "tresillo_test_set_vectors = collapse_normalize_vectors(tresillo_test_set_vectors)\n",
    "tresillo_test_set_vectors = calc_cosine_sim(tresillo_test_set_vectors, vector_vanilla_tresillo)\n",
    "print(tresillo_test_set_vectors['cosine_sim_tresillo'])"
   ]
  },
  {
   "cell_type": "markdown",
   "metadata": {},
   "source": [
    "Let's calculate the mean Tresillo-ness and also the 2.5% and 97.5% confidence intervals of the mean as obtained by bootstrapping."
   ]
  },
  {
   "cell_type": "code",
   "execution_count": 75,
   "metadata": {},
   "outputs": [
    {
     "name": "stdout",
     "output_type": "stream",
     "text": [
      "mean Tresillo-ness in the test set:  0.7683315382006799\n",
      "tresillo upper and lower ci on 100 draws:  0.6808770780048731 0.8481138158323536\n"
     ]
    }
   ],
   "source": [
    "print('mean Tresillo-ness in the test set: ', tresillo_test_set_vectors['cosine_sim_tresillo'].mean())\n",
    "lower_tresillo_ci, upper_tresillo_ci = bootstrap_CI(tresillo_test_set_vectors['cosine_sim_tresillo'], 100)\n",
    "print('tresillo upper and lower ci on 100 draws: ', lower_tresillo_ci, upper_tresillo_ci)"
   ]
  },
  {
   "cell_type": "markdown",
   "metadata": {},
   "source": [
    "Let's do exact same thing, but with a comparison data set of songs which we kno to not include any Tresillo songs.  \n",
    "Also calculating the mean and the confidence intervals of the not Tresillo songs."
   ]
  },
  {
   "cell_type": "code",
   "execution_count": 76,
   "metadata": {},
   "outputs": [
    {
     "name": "stdout",
     "output_type": "stream",
     "text": [
      "song_artist\n",
      "Dress You Up           0.666450\n",
      "Fear of the Dark       0.689443\n",
      "Folsom Prison Blues    0.657568\n",
      "Immigrant Song         0.584275\n",
      "Jailhouse Rock         0.593940\n",
      "One Step Closer        0.523399\n",
      "Sweet Child O'Mine     0.724700\n",
      "Sweet Home Alabama     0.534338\n",
      "Name: cosine_sim_tresillo, dtype: float64\n",
      "mean Tresillo-ness in the test set:  0.6217641548092555\n",
      "tresillo upper and lower ci on 100 draws:  0.5792063648094466 0.6717705312519476\n"
     ]
    }
   ],
   "source": [
    "non_tresillio_vectors =  pd.read_csv(home_dir + '/dataset/rythm_vectors/rythm_vectors_not_tresillo_validation.csv')\n",
    "#non_tresillio_vectors = pd.read_csv(home_dir + '/dataset/rythm_vectors/rythm_vectors_no_tresillos_4_4.csv')\n",
    "\n",
    "non_tresillio_vectors = collapse_normalize_vectors(non_tresillio_vectors)\n",
    "non_tresillio_vectors = calc_cosine_sim(non_tresillio_vectors, vector_vanilla_tresillo)\n",
    "print(non_tresillio_vectors['cosine_sim_tresillo'])\n",
    "\n",
    "print('mean Tresillo-ness in the test set: ', non_tresillio_vectors['cosine_sim_tresillo'].mean())\n",
    "lower_non_tresillo_ci, upper_non_tresillo_ci = bootstrap_CI(non_tresillio_vectors['cosine_sim_tresillo'], 100)\n",
    "print('tresillo upper and lower ci on 100 draws: ', lower_non_tresillo_ci, upper_non_tresillo_ci)"
   ]
  },
  {
   "cell_type": "markdown",
   "metadata": {},
   "source": [
    "Already looking at the means of the two samples and their confidence intervalls, they seem to be significantly different.  \n",
    "However let's also calculate the t-test statistics to ensure that the distributions are actually different."
   ]
  },
  {
   "cell_type": "code",
   "execution_count": 77,
   "metadata": {},
   "outputs": [
    {
     "name": "stdout",
     "output_type": "stream",
     "text": [
      "p value that the means are the same:  0.009618772484088895\n"
     ]
    }
   ],
   "source": [
    "ttest_pvalue = stats.ttest_ind(tresillo_test_set_vectors['cosine_sim_tresillo'], non_tresillio_vectors['cosine_sim_tresillo']).pvalue\n",
    "print('p value that the means are the same: ', ttest_pvalue)"
   ]
  },
  {
   "cell_type": "markdown",
   "metadata": {},
   "source": [
    "**Discussion:**  \n",
    "Looking at the the Tresillio cosine similarity metrics of both data sets and comparing the distributions of the means to each other (confidence intervals and t-test), we see that their mean Tresillo-ness is indeed significantly diffferent.  \n",
    "However, we also see that 1) this Tresillo-ness measurement seems to be quite noisy 2) The distribution of the two samples are not as far apart as we would like them to be.  \n",
    "The noisiness of this metric, can be especially seen, if one looks at the individual cosine Tresillo-ness values of the songs. Here we see that there is great variance in Tresillo-ness in the hand selected Tresillo data set. Values can be as small as 0.6, which corresponds to the value of a none Tresillo song.  \n",
    "Furthermore, it seems that also songs wich we classified to have no Tresillo, have a cosine Tresillo-ness up to 0.72.  \n",
    "In general we can state that the cosine similarity methods seems to identify a ceratin Tresillo-ness, however it is questionable how robust this method is."
   ]
  },
  {
   "cell_type": "markdown",
   "metadata": {},
   "source": [
    "### 3.3) Tresilio-ness over Time"
   ]
  },
  {
   "cell_type": "markdown",
   "metadata": {},
   "source": [
    "Now that we explored several ways to compute Tresillo-ness, we can calculate the Tresilo-ness of ou billboard data set.  \n",
    "First let us load the rhythm vectors of our billboard songs and let's also merge it to the metadata of the billboard songs.  \n",
    "The metadata of the billboard songs includes time signatures with which we can Tresillo-ness over time."
   ]
  },
  {
   "cell_type": "code",
   "execution_count": 81,
   "metadata": {},
   "outputs": [
    {
     "data": {
      "text/html": [
       "<div>\n",
       "<style scoped>\n",
       "    .dataframe tbody tr th:only-of-type {\n",
       "        vertical-align: middle;\n",
       "    }\n",
       "\n",
       "    .dataframe tbody tr th {\n",
       "        vertical-align: top;\n",
       "    }\n",
       "\n",
       "    .dataframe thead th {\n",
       "        text-align: right;\n",
       "    }\n",
       "</style>\n",
       "<table border=\"1\" class=\"dataframe\">\n",
       "  <thead>\n",
       "    <tr style=\"text-align: right;\">\n",
       "      <th></th>\n",
       "      <th>Name</th>\n",
       "      <th>Artists</th>\n",
       "      <th>Peak.position</th>\n",
       "      <th>Week</th>\n",
       "      <th>Genre</th>\n",
       "      <th>cosine_sim_tresillo</th>\n",
       "    </tr>\n",
       "  </thead>\n",
       "  <tbody>\n",
       "    <tr>\n",
       "      <th>89</th>\n",
       "      <td>Cheap Thrills</td>\n",
       "      <td>Sia</td>\n",
       "      <td>19.0</td>\n",
       "      <td>2016-06-18</td>\n",
       "      <td>Jamaica,Remix,Australia,Rap,Synth-Pop,Pop</td>\n",
       "      <td>0.908945</td>\n",
       "    </tr>\n",
       "    <tr>\n",
       "      <th>293</th>\n",
       "      <td>Rather Be</td>\n",
       "      <td>Clean Bandit</td>\n",
       "      <td>19.0</td>\n",
       "      <td>2014-08-08</td>\n",
       "      <td>Electro-Pop,Deep House,Eurodance,Dance-Pop,Cla...</td>\n",
       "      <td>0.861075</td>\n",
       "    </tr>\n",
       "    <tr>\n",
       "      <th>319</th>\n",
       "      <td>Shape Of You</td>\n",
       "      <td>Ed Sheeran</td>\n",
       "      <td>1.0</td>\n",
       "      <td>2017-01-28</td>\n",
       "      <td>Tropical House,Dancehall,Pop,UK</td>\n",
       "      <td>0.915565</td>\n",
       "    </tr>\n",
       "    <tr>\n",
       "      <th>387</th>\n",
       "      <td>Treat You Better</td>\n",
       "      <td>Shawn Mendes</td>\n",
       "      <td>20.0</td>\n",
       "      <td>2016-07-30</td>\n",
       "      <td>Canada,Pop</td>\n",
       "      <td>0.883772</td>\n",
       "    </tr>\n",
       "    <tr>\n",
       "      <th>389</th>\n",
       "      <td>Turn Me On</td>\n",
       "      <td>Kevin Lyttle</td>\n",
       "      <td>20.0</td>\n",
       "      <td>2004-06-23</td>\n",
       "      <td>Pop</td>\n",
       "      <td>0.937243</td>\n",
       "    </tr>\n",
       "    <tr>\n",
       "      <th>423</th>\n",
       "      <td>Where Have You Been</td>\n",
       "      <td>Rihanna</td>\n",
       "      <td>18.0</td>\n",
       "      <td>2012-05-25</td>\n",
       "      <td>House,Electro-Pop,Pop</td>\n",
       "      <td>0.947448</td>\n",
       "    </tr>\n",
       "  </tbody>\n",
       "</table>\n",
       "</div>"
      ],
      "text/plain": [
       "                    Name       Artists  Peak.position        Week  \\\n",
       "89         Cheap Thrills           Sia           19.0  2016-06-18   \n",
       "293            Rather Be  Clean Bandit           19.0  2014-08-08   \n",
       "319         Shape Of You    Ed Sheeran            1.0  2017-01-28   \n",
       "387     Treat You Better  Shawn Mendes           20.0  2016-07-30   \n",
       "389           Turn Me On  Kevin Lyttle           20.0  2004-06-23   \n",
       "423  Where Have You Been       Rihanna           18.0  2012-05-25   \n",
       "\n",
       "                                                 Genre  cosine_sim_tresillo  \n",
       "89           Jamaica,Remix,Australia,Rap,Synth-Pop,Pop             0.908945  \n",
       "293  Electro-Pop,Deep House,Eurodance,Dance-Pop,Cla...             0.861075  \n",
       "319                    Tropical House,Dancehall,Pop,UK             0.915565  \n",
       "387                                         Canada,Pop             0.883772  \n",
       "389                                                Pop             0.937243  \n",
       "423                              House,Electro-Pop,Pop             0.947448  "
      ]
     },
     "execution_count": 81,
     "metadata": {},
     "output_type": "execute_result"
    }
   ],
   "source": [
    "df_billboard = pd.read_csv(home_dir + '/dataset/rythm_vectors/rythm_vectors_billboard.csv')\n",
    "df_billboard_meta = pd.read_csv(home_dir + '/dataset/billboard_data_sets/billboard_1999-2019_unique_top_20_selection.csv')\n",
    "\n",
    "#calculate cosine simularity\n",
    "df_billboard = collapse_normalize_vectors(df_billboard)\n",
    "df_billboard_sim = calc_cosine_sim(df_billboard, vector_vanilla_tresillo)\n",
    "\n",
    "#prepare for merge with meta data\n",
    "df_billboard_sim['song_artist'] = df_billboard_sim.index\n",
    "df_billboard_sim['song'] = df_billboard_sim.song_artist.apply(lambda x: x.split('_')[0])\n",
    "df_billboard_sim['artist'] = df_billboard_sim.song_artist.apply(lambda x: x.split('_')[1][:-1])\n",
    "df_billboard_sim = df_billboard_sim.drop(['song_artist'], axis=1)\n",
    "\n",
    "#merge data frames\n",
    "df_billboard_merged = df_billboard_sim.merge(df_billboard_meta, left_on=['song','artist'], right_on=['Name', 'Artists'], how='left')\n",
    "df_billboard_reduced = df_bilboard_merged[['Name', 'Artists', 'Peak.position', 'Week', 'Genre', 'cosine_sim_tresillo']]\n",
    "#let's look at some songs with very high tresillo-ness\n",
    "df_billboard_reduced[df_billboard_reduced['cosine_sim_tresillo']>0.85]\n"
   ]
  },
  {
   "cell_type": "markdown",
   "metadata": {},
   "source": [
    "Let's plot weekly cosine Tresillo-ness "
   ]
  },
  {
   "cell_type": "code",
   "execution_count": 82,
   "metadata": {},
   "outputs": [
    {
     "data": {
      "text/plain": [
       "Text(0, 0.5, 'Cosine Tresillo-ness')"
      ]
     },
     "execution_count": 82,
     "metadata": {},
     "output_type": "execute_result"
    },
    {
     "data": {
      "image/png": "[encoded data removed]",
      "text/plain": [
       "<Figure size 432x288 with 1 Axes>"
      ]
     },
     "metadata": {
      "needs_background": "light"
     },
     "output_type": "display_data"
    }
   ],
   "source": [
    "df_bilboard_merged_weekly = df_bilboard_merged.groupby(['Week'])['cosine_sim_tresillo'].agg(['mean']).reset_index()\n",
    "plt.plot(pd.to_datetime(df_bilboard_merged_weekly.Week), df_bilboard_merged_weekly['mean'])\n",
    "plt.title('Weekly Cosine Tresillo-ness in the Top 20 Billboards')\n",
    "plt.xlabel('Time')\n",
    "plt.ylabel('Cosine Tresillo-ness')"
   ]
  },
  {
   "cell_type": "markdown",
   "metadata": {},
   "source": [
    "The time trend above is very noisy and hard to read. By calculating a 4 weeks moveing average we might get smoother results."
   ]
  },
  {
   "cell_type": "code",
   "execution_count": 90,
   "metadata": {},
   "outputs": [
    {
     "data": {
      "text/plain": [
       "Text(0, 0.5, 'Cosine Tresillo-ness')"
      ]
     },
     "execution_count": 90,
     "metadata": {},
     "output_type": "execute_result"
    },
    {
     "data": {
      "image/png": "[encoded data removed]",
      "text/plain": [
       "<Figure size 432x288 with 1 Axes>"
      ]
     },
     "metadata": {
      "needs_background": "light"
     },
     "output_type": "display_data"
    }
   ],
   "source": [
    "df_bilboard_merged_weekly['rolling_mean'] = df_bilboard_merged_weekly.iloc[:,1].rolling(window=4).mean()\n",
    "\n",
    "plt.plot(pd.to_datetime(df_bilboard_merged_weekly.Week), df_bilboard_merged_weekly['rolling_mean'])\n",
    "plt.title('4 Weeks Moving Average Cosine Tresillo-ness in the Top 20 Billboards')\n",
    "plt.xlabel('Time')\n",
    "plt.ylabel('Cosine Tresillo-ness')"
   ]
  },
  {
   "cell_type": "code",
   "execution_count": null,
   "metadata": {},
   "outputs": [],
   "source": []
  },
  {
   "cell_type": "code",
   "execution_count": null,
   "metadata": {},
   "outputs": [],
   "source": []
  },
  {
   "cell_type": "markdown",
   "metadata": {
    "jupyter": {
     "source_hidden": true
    }
   },
   "source": [
    "**TA instructions**: \n",
    "- Present your results in relation to your research question.\n",
    "- Present them in a logical order that does not have to be the order in which you achieved them.\n",
    "\n",
    "**Thoughts Aurel:** \n",
    "\n",
    " 4. Discussion of the clustering method, either k-mean clustering or something we dont have to set the cluster number\n",
    " 5. Finding Tresillio-ness in the pop charts with all three methods a) Vanilla Tresillio-ness b) Tresillio songs vector c) \n",
    " \n",
    "    "
   ]
  },
  {
   "cell_type": "markdown",
   "metadata": {},
   "source": [
    "## 4) Outlook on final interpretation"
   ]
  },
  {
   "cell_type": "markdown",
   "metadata": {},
   "source": [
    "Points to discuss as stated by TAs: \n",
    "- Interpreting your results is the final step that you will do in preparing Milestone 4 (your presentations). Please end your submission by giving a first,preliminary outlook on this final step: what aspects of your results do you find interesting with respect to your hypotheses and previous literature? What do you think might be the main points to elaborate upon in the discussion? "
   ]
  },
  {
   "cell_type": "code",
   "execution_count": null,
   "metadata": {},
   "outputs": [],
   "source": []
  },
  {
   "cell_type": "code",
   "execution_count": null,
   "metadata": {},
   "outputs": [],
   "source": []
  },
  {
   "cell_type": "markdown",
   "metadata": {},
   "source": [
    "## References"
   ]
  },
  {
   "cell_type": "markdown",
   "metadata": {},
   "source": [
    "- Chin,  F.  and  Wu,  S.  (1992).   An  efficient  algorithm  for  rhythm-finding.Computer MusicJournal, 16(2):35–44.\n",
    "- Dixon,  S.,  Gouyon,  F.,  Widmer,  G.,  et  al.  (2004).   Towards  characterisation  of  music  viarhythmic patterns.  InISMIR.\n",
    "- Huron, D. and Ommen, A. (2006).  An empirical study of syncopation in american popularmusic, 1890–1939.Music Theory Spectrum, 28(2):211–231.\n",
    "- Palmer, C. and Krumhansl, C. L. (1990).  Mental representations for musical meter.Journalof Experimental Psychology: Human Perception and Performance, 16(4):728.\n",
    "- Panteli,  M.,  Bogaards,  N.,  Honingh,  A.  K.,  et  al.  (2014).   Modeling  rhythm  similarity  forelectronic dance music.  InISMIR, pages 537–542.\n",
    "- Parry, M. and Essa, I. (2003).  Rhythmic similarity through elaboration.\n",
    "- Pohle,  T.,  Schnitzer,  D.,  Schedl,  M.,  Knees,  P.,  and  Widmer,  G.  (2009).   On  rhythm  andgeneral music similarity.  InISMIR, pages 525–530. \n",
    "- Rohrmeier, M. (2020).  Towards a formalization of musical rhythm.  InProc. of the 21st Int.Society for Music Information Retrieval Conf\n",
    "- Floyd, Samuel A. \"Black music in the circum-Caribbean.\" American Music (1999): 5-7.\n",
    "- Toussaint, Godfried. \"The geometry of musical rhythm.\" Japanese Conference on Discrete and Computational Geometry. Springer, Berlin, Heidelberg, 2004, page 199."
   ]
  },
  {
   "cell_type": "code",
   "execution_count": null,
   "metadata": {},
   "outputs": [],
   "source": []
  }
 ],
 "metadata": {
  "kernelspec": {
   "display_name": "Python 3",
   "language": "python",
   "name": "python3"
  },
  "language_info": {
   "codemirror_mode": {
    "name": "ipython",
    "version": 3
   },
   "file_extension": ".py",
   "mimetype": "text/x-python",
   "name": "python",
   "nbconvert_exporter": "python",
   "pygments_lexer": "ipython3",
   "version": "3.8.5"
  }
 },
 "nbformat": 4,
 "nbformat_minor": 4
}
