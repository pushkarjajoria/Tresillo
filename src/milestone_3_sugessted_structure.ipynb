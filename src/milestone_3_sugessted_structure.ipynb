{
 "cells": [
  {
   "cell_type": "markdown",
   "metadata": {},
   "source": [
    "## 1) Research Question "
   ]
  },
  {
   "cell_type": "markdown",
   "metadata": {},
   "source": [
    "Points to discuss as stated by TAs: Precision of Research Question\n",
    "\n",
    "- State the final version of your research question as you understand it now.\n",
    "\n",
    "-  Make all assumptions and hypotheses explicit.\n",
    "\n",
    "- In case Milestone 2 did not include the final data representation that you are analyzing, present the representation you finally used and the necessary steps to get to it."
   ]
  },
  {
   "cell_type": "markdown",
   "metadata": {},
   "source": [
    "**Thoughts Aurel:** \n",
    " - Reasearch Question: Move to a fuzzy definition of Tresillio-ness: E.g.: \n",
    "    Are pop songs increasingly using a rythm pattern which is similar to a rythm pattern which we reffer to as 'Tresillio rythm'?  \n",
    "    \n",
    " - Assumptions are very important for them. Here we have to note our definition(s) of the Tresillio rythm pattern and how we derive them (incl sources). Furthermore, we have to discuss cases where there are Rythms which are similar to the Tresillio rythm but not equivalent (e.g.: reggaeton) and how we deal with them computationally.  \n",
    " \n",
    " - Here we have to discuss the conversion of our MIDI files to the musescore3 file format. Furthermore, we have to discuss what the musescore3 format offers us, and why it is the better choice for our analysis. \n",
    "    "
   ]
  },
  {
   "cell_type": "markdown",
   "metadata": {},
   "source": [
    " **Toughts Florian:**\n",
    "    -Assumptions:\n",
    "    \n",
    "    -30 second piece of pop song is suitable to identfy the main rythm\n",
    "    \n",
    "    -Main rythm can be identified by counting the onsets\n",
    "    \n",
    "    -the great majority of pop songs comes in 4/4 (not shure if we really need that assumption)\n",
    "    \n",
    "    - \n",
    "        \n",
    "                \n",
    "    "
   ]
  },
  {
   "cell_type": "markdown",
   "metadata": {},
   "source": [
    "## 2) Methods"
   ]
  },
  {
   "cell_type": "markdown",
   "metadata": {},
   "source": [
    "Points to discuss as stated by TAs: \n",
    "- How did you deal with the problems you mentioned in Milestone 2?\n",
    "\n",
    "- Which methods did you use to obtain the final results? Provide self-contained explanations and make sure to cite relevant literature where appropriate.\n",
    "\n",
    "- Explain your core calculations using equations.\n",
    "\n",
    "- Do not describe all the methods you tried out but only those that lead to the results: the final analysis is not an exploratory analysis anymore.\n",
    "\n",
    "- Specify any adjustments you made to pre-existing methods"
   ]
  },
  {
   "cell_type": "markdown",
   "metadata": {},
   "source": [
    "**Thoughts Aurel**:  \n",
    " -  Talk about how we got to the bar representation of our music. Furthermore, also discuss how we get to a 'perfect Tresillio Histogram'\n",
    "    \n",
    " - Here I propose we try out several things and compare the results of several methods:\n",
    " \n",
    "  a) A first big topics is how we define the perfect Tresillo:  \n",
    "   1. Given predefined rythm patterns (by Florian)\n",
    "   2. Given songs with high Tresillio-ness\n",
    "    - All instruments collapsed\n",
    "    - Only key instruments\n",
    "    - Certain instruments  \n",
    "    \n",
    "  a) The second big question is how do we measure Tresillio-ness in the pop songs, I would suggest three approaches. All aproaches require that we first obtain 16 dimensional Rythm vectors of each song of interest:  \n",
    "   1. Compare our vanilla self defined Tresillio rythm vector with all vectors of our pop songs. Measure distance or simularity with some commonly used distance measure in the literature\n",
    "   2. Very similar to 1) but this time use the Tresillio rythm vector as defined by our songs\n",
    "   3. Prior clustering of the rythm vectors. Obtaining centroid and measuring with it Tresillio ness in the charts (method as proposed by Pushkar)\n",
    " \n",
    "- Equations should be included in the prior part\n",
    "- Discuss critically any outliers, problems and limitations of our methodology. Extra focus on the question how we deal with related but not the same rythm (e.g.: Reggaeton)\n",
    "\n",
    "\n",
    "**Toughts Florian**\n",
    "- Following the last paper discussion one measuurement we could use is the Cosin distance \n",
    "- Not sure about an instrument selection. We can mention that a reduction seems not favorable as the tresillo rythm  is presented with different instruments throughout the dataset"
   ]
  },
  {
   "cell_type": "markdown",
   "metadata": {},
   "source": [
    "## 3) Final Results"
   ]
  },
  {
   "cell_type": "markdown",
   "metadata": {},
   "source": [
    "Points to discuss as stated by TAs: \n",
    "- Present your results in relation to your research question.\n",
    "- Present them in a logical order that does not have to be the order in which you achieved them."
   ]
  },
  {
   "cell_type": "markdown",
   "metadata": {},
   "source": [
    "**Thoughts Aurel:** \n",
    "- This will be our big code part. I would propose following order:\n",
    " 1. Histograms of the self defined Tresillio & critical discussion reasoning\n",
    " 2. Histogram of the Tresillio as defined by popular songs. This includes variations of taking only some instruments. etc\n",
    " 3. Comparison of Tresillio Histograms to histograms where we can be sure that there is no Tresillio\n",
    " 4. Discussion of the clustering method, either k-mean clustering or something we dont have to set the cluster number\n",
    " 5. Finding Tresillio-ness in the pop charts with all three methods a) Vanilla Tresillio-ness b) Tresillio songs vector c) \n",
    " \n",
    "    "
   ]
  },
  {
   "cell_type": "markdown",
   "metadata": {},
   "source": [
    "## 4) Outlook on final interpretation"
   ]
  },
  {
   "cell_type": "markdown",
   "metadata": {},
   "source": [
    "Points to discuss as stated by TAs: \n",
    "- Interpreting your results is the final step that you will do in preparing Milestone 4 (your presentations). Please end your submission by giving a first,preliminary outlook on this final step: what aspects of your results do you find interesting with respect to your hypotheses and previous literature? What do you think might be the main points to elaborate upon in the discussion? "
   ]
  },
  {
   "cell_type": "code",
   "execution_count": null,
   "metadata": {},
   "outputs": [],
   "source": []
  },
  {
   "cell_type": "code",
   "execution_count": null,
   "metadata": {},
   "outputs": [],
   "source": []
  }
 ],
 "metadata": {
  "kernelspec": {
   "display_name": "Python 3",
   "language": "python",
   "name": "python3"
  },
  "language_info": {
   "codemirror_mode": {
    "name": "ipython",
    "version": 3
   },
   "file_extension": ".py",
   "mimetype": "text/x-python",
   "name": "python",
   "nbconvert_exporter": "python",
   "pygments_lexer": "ipython3",
   "version": "3.8.5"
  }
 },
 "nbformat": 4,
 "nbformat_minor": 4
}
