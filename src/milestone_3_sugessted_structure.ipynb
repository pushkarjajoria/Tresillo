{
 "cells": [
  {
   "cell_type": "markdown",
   "metadata": {},
   "source": [
    "# Towards a Rhythmical Definition of the Tressilio beat and a Tracing of it in Popular Music "
   ]
  },
  {
   "cell_type": "markdown",
   "metadata": {},
   "source": [
    "## 1) Introduction & Research Question "
   ]
  },
  {
   "cell_type": "markdown",
   "metadata": {},
   "source": [
    "### 1.1) Research question: \n",
    "\"Can we compute to which extent a defined rhythm, which we refer to as Tresillo rhythm, is used in a given pop song and if so can we measure the intensity of Tresillo rhythm use in billboard songs over the past twenty years?\"  \n",
    "\n",
    "**Discussion:**  \n",
    "In our project we would like to discuss the use of a rhythm, which we refer to as 'Tresillo rhythm', in the popular music of the last 20 years. We define this rhythm in our project, given secondary literature, and thus obtain a precise notation and formulization of the Tresillo rhythm. Given this definition we can then compute the similarity between the Tresillo rhythm and the rhythm of a given pop song. Thus, we hope to obtain a similarity coefficient which measures how similar the rythm of a given pop song is to our self defined Tresillo rythm. Given the computed similarity coefficients, we hope to measure the use of the Tresillo rhythm in the top 20 billboard songs of the past 20 years (1999-2019).\n"
   ]
  },
  {
   "cell_type": "markdown",
   "metadata": {},
   "source": [
    "### 1.2) Assumptions"
   ]
  },
  {
   "cell_type": "markdown",
   "metadata": {},
   "source": [
    "We assume that for most pop songs present in the billboaard charts, one can identify one dominant rythm per song.This assumption is supported by [insert bibliographie]. For our presntation of songs in rythm space, we also assume that the majority of the songs in the billboard charts is in the time signature of 4/4. The following data exploration justifies this assumption.(There are 420 songs with 4/4, 6 with 3/4 and 16 with changing time signature). \n",
    "We assume that a time sample longer than [40] seconds is suitable to present the main rythm of a pop song.\n",
    "     #We need to discuss which treshold we want to set. The lower the more songs, the higher the stronger our  assumption\n",
    "    "
   ]
  },
  {
   "cell_type": "code",
   "execution_count": null,
   "metadata": {},
   "outputs": [],
   "source": [
    "#Some numbers regarding our song length assumption, not adressed in the former notebooks\n",
    "list_midis = os.listdir(r\"C:/Users/Florian/Documents/GitHub/Tresillo/dataset/project_midi/billboard\")\n",
    "length_midis = []\n",
    "for el in list_midis:\n",
    "    midi_data = pretty_midi.PrettyMIDI(\"C:/Users/Florian/Documents/GitHub/Tresillo/dataset/project_midi/billboard\" +'/'+el)\n",
    "    length_midis.append(midi_data.get_end_time())\n",
    "\n",
    "average_midi_length = (sum(length_midis)/len(length_midis))\n",
    "plt.figure(1)\n",
    "plt.hist(length_midis, 20)\n",
    "midi_length_standart_dev = statistics.stdev(length_midis)\n",
    "counter_30 = 0\n",
    "counter_40 = 0\n",
    "counter_30 = sum (i < 30 for i in length_midis)\n",
    "counter_40 = sum (i < 40 for i in length_midis)\n",
    "\n",
    "print(\"Samples shorter than 30 sec: \" + counter)\n",
    "print(\"Samples shorter 40 sec: \"  + counter_40)\n",
    "print (\"Average sample length\" + average_midi_length)\n",
    "print(\"Standart deveiation sample length\" + midi_length_standart_dev)"
   ]
  },
  {
   "cell_type": "markdown",
   "metadata": {},
   "source": [
    "### 1.3) Data Representation\n",
    "Initially our data is represented in the MIDI file format. The representation of music in the MIDI format has the advantage, that often several voices of different instruments are represented in such files. In contrast to musescore, where often only the voice of one instrument (mostly piano) is notated.  \n",
    "However, to obtain a list of onsets of every musical event in a given song, we have to convert our MIDI (.midi) files to Musescore (.mscx) files.  \n",
    "To convert and further analyze our files, we will use the [ms3](https://pypi.org/project/ms3/) python library.  \n",
    "To convert a directory of .midi files to .mscx files we use following command:\n"
   ]
  },
  {
   "cell_type": "code",
   "execution_count": null,
   "metadata": {},
   "outputs": [],
   "source": [
    "path_midi = '/home/nulpe/Desktop/Tresillo/dataset/project_midi/tresillo/'\n",
    "target = '/home/nulpe/Desktop/Tresillo/dataset/project_mscx/mscx_tresillos_billboard/'\n",
    "\n",
    "dir_list = os.listdir(path_midi)\n",
    "\n",
    "for el in dir_list:\n",
    "    convert(path_midi+el, target+el[:-4]+'.mscx', MS='musescore3')"
   ]
  },
  {
   "cell_type": "code",
   "execution_count": null,
   "metadata": {},
   "outputs": [],
   "source": []
  },
  {
   "cell_type": "markdown",
   "metadata": {},
   "source": [
    "**TA instructions**: Precision of Research Question\n",
    "\n",
    "- State the final version of your research question as you understand it now.\n",
    "\n",
    "-  Make all assumptions and hypotheses explicit.\n",
    "\n",
    "- In case Milestone 2 did not include the final data representation that you are analyzing, present the representation you finally used and the necessary steps to get to it.\n",
    "\n",
    "**Thoughts Aurel:** \n",
    " - Reasearch Question: Move to a fuzzy definition of Tresillio-ness: E.g.: \n",
    "    Are pop songs increasingly using a rythm pattern which is similar to a rythm pattern which we reffer to as 'Tresillio rythm'?  \n",
    "    \n",
    " - Assumptions are very important for them. Here we have to note our definition(s) of the Tresillio rythm pattern and how we derive them (incl sources). Furthermore, we have to discuss cases where there are Rythms which are similar to the Tresillio rythm but not equivalent (e.g.: reggaeton) and how we deal with them computationally.  \n",
    " \n",
    " - Here we have to discuss the conversion of our MIDI files to the musescore3 file format. Furthermore, we have to discuss what the musescore3 format offers us, and why it is the better choice for our analysis. \n",
    " \n",
    "  **Toughts Florian:**\n",
    "    -Assumptions:\n",
    "    \n",
    "    -30 second piece of pop song is suitable to identfy the main rythm\n",
    "    \n",
    "    -Main rythm can be identified by counting the onsets\n",
    "    \n",
    "    -the great majority of pop songs comes in 4/4 (not shure if we really need that assumption)\n",
    "    "
   ]
  },
  {
   "cell_type": "markdown",
   "metadata": {},
   "source": []
  },
  {
   "cell_type": "markdown",
   "metadata": {},
   "source": [
    "\n",
    "    "
   ]
  },
  {
   "cell_type": "markdown",
   "metadata": {},
   "source": []
  },
  {
   "cell_type": "markdown",
   "metadata": {},
   "source": [
    "## 2) Methods"
   ]
  },
  {
   "cell_type": "markdown",
   "metadata": {},
   "source": [
    "### 2.1) Definition of the Tresillo rhythm\n",
    "ToDo Florian (cite relevant literature to define tresillo)"
   ]
  },
  {
   "cell_type": "markdown",
   "metadata": {},
   "source": [
    "### 2.2) Rhythm histograms and vectors \n",
    "\n",
    "To be able to measure the similarity between rhythm we must have a clear definition and thus following representation of rhythm. In general, one can define rhythm as \"a series of onsets and durations of musical events.” (Rohrmeier, 2020). In our specific case however, we are interested in the dominat and repeating rhythm of a given song. Therefore we prefer a narrower definition of rhythm as “repeated recurrences in alternate heavy and light beats” (Chin and Wu, 1992). To furthermore simplify our data, we assume that the main rhythm of a song can be defined by the onsets  of its musical events (notes).  \n",
    "To obtain a representation of the dominate rhythm of a song, we preceed to aggregate all musical onset to one bar. Collapsing all musical onsets to one bar and thus obtaining onset 'histograms' is a common pratice and has been used most notably to analyze western classical music (Palmer and Krumhansl, 1990) and american folk music (Huron and Ommen, 2006).  \n",
    "We use this methode to obtain what we refer to as 'rhythm vectors'. Thus with the onset histogram of one song we can compile a n dimensional rhythm vector for each song. Given that we only consider songs with 4/4 meters in our data sets, we obtain for each song a 16 dimensional vector. (The number of songs with meters other than 4/4 is negible, and thus all songs with differing meter have been filtered)  \n"
   ]
  },
  {
   "cell_type": "markdown",
   "metadata": {},
   "source": [
    "### 2.3) Naive approach: Rhythm simularity measured with cosine simularity \n",
    "Given the 16 dimensional rhythm vectors we obtain following the methode described above, we can now compute simple vector similarity metrics.  \n",
    "In rhythm analysis a common similarity metric which is used to calculate the similarity between two rhythm vectors is the cosine distance (see: anteli et al., 2014; Parry and Essa, 2003).  The cosine similarity metric is scale invariante, which as such is interesting for rhythm similarity given that tus only relative frequencies of onsets are important and not absolute frequencies.  \n",
    "The cosine distance between two vectors t and e is defined as following: \n",
    "\\begin{equation}\n",
    "\\cos ({\\bf t},{\\bf e})= {{\\bf t} *{\\bf e} \\over \\|{\\bf t}\\| \\|{\\bf e}\\|} = \\frac{ \\sum_{i=1}^{n}{{\\bf t}_i{\\bf e}_i} }{ \\sqrt{\\sum_{i=1}^{n}{({\\bf t}_i)^2}} \\sqrt{\\sum_{i=1}^{n}{({\\bf e}_i)^2}} }\n",
    "\\end{equation}\n"
   ]
  },
  {
   "cell_type": "markdown",
   "metadata": {},
   "source": [
    "### 2.4) Reducing noise: (pushkar)"
   ]
  },
  {
   "cell_type": "markdown",
   "metadata": {},
   "source": [
    "**TA instructions**: \n",
    "- How did you deal with the problems you mentioned in Milestone 2?\n",
    "\n",
    "- Which methods did you use to obtain the final results? Provide self-contained explanations and make sure to cite relevant literature where appropriate.\n",
    "\n",
    "- Explain your core calculations using equations.\n",
    "\n",
    "- Do not describe all the methods you tried out but only those that lead to the results: the final analysis is not an exploratory analysis anymore.\n",
    "\n",
    "- Specify any adjustments you made to pre-existing methods\n",
    "\n",
    "\n",
    "**Thoughts Aurel**:  \n",
    " -  Talk about how we got to the bar representation of our music. Furthermore, also discuss how we get to a 'perfect Tresillio Histogram'\n",
    "    \n",
    " - Here I propose we try out several things and compare the results of several methods:\n",
    " \n",
    "  a) A first big topics is how we define the perfect Tresillo:  \n",
    "   1. Given predefined rythm patterns (by Florian)\n",
    "   2. Given songs with high Tresillio-ness\n",
    "    - All instruments collapsed\n",
    "    - Only key instruments\n",
    "    - Certain instruments  \n",
    "    \n",
    "  a) The second big question is how do we measure Tresillio-ness in the pop songs, I would suggest three approaches. All aproaches require that we first obtain 16 dimensional Rythm vectors of each song of interest:  \n",
    "   1. Compare our vanilla self defined Tresillio rythm vector with all vectors of our pop songs. Measure distance or simularity with some commonly used distance measure in the literature\n",
    "   2. Very similar to 1) but this time use the Tresillio rythm vector as defined by our songs\n",
    "   3. Prior clustering of the rythm vectors. Obtaining centroid and measuring with it Tresillio ness in the charts (method as proposed by Pushkar)\n",
    " \n",
    "- Equations should be included in the prior part\n",
    "- Discuss critically any outliers, problems and limitations of our methodology. Extra focus on the question how we deal with related but not the same rythm (e.g.: Reggaeton)\n",
    "\n",
    "\n",
    "**Toughts Florian**\n",
    "- Following the last paper discussion one measuurement we could use is the Cosin distance \n",
    "- Not sure about an instrument selection. We can mention that a reduction seems not favorable as the tresillo rythm  is presented with different instruments throughout the dataset"
   ]
  },
  {
   "cell_type": "markdown",
   "metadata": {},
   "source": []
  },
  {
   "cell_type": "markdown",
   "metadata": {},
   "source": [
    "## 3) Final Results"
   ]
  },
  {
   "cell_type": "markdown",
   "metadata": {},
   "source": [
    "Points to discuss as stated by TAs: \n",
    "- Present your results in relation to your research question.\n",
    "- Present them in a logical order that does not have to be the order in which you achieved them."
   ]
  },
  {
   "cell_type": "markdown",
   "metadata": {},
   "source": [
    "**Thoughts Aurel:** \n",
    "- This will be our big code part. I would propose following order:\n",
    " 1. Histograms of the self defined Tresillio & critical discussion reasoning\n",
    " 2. Histogram of the Tresillio as defined by popular songs. This includes variations of taking only some instruments. etc\n",
    " 3. Comparison of Tresillio Histograms to histograms where we can be sure that there is no Tresillio\n",
    " 4. Discussion of the clustering method, either k-mean clustering or something we dont have to set the cluster number\n",
    " 5. Finding Tresillio-ness in the pop charts with all three methods a) Vanilla Tresillio-ness b) Tresillio songs vector c) \n",
    " \n",
    "    "
   ]
  },
  {
   "cell_type": "markdown",
   "metadata": {},
   "source": [
    "## 4) Outlook on final interpretation"
   ]
  },
  {
   "cell_type": "markdown",
   "metadata": {},
   "source": [
    "Points to discuss as stated by TAs: \n",
    "- Interpreting your results is the final step that you will do in preparing Milestone 4 (your presentations). Please end your submission by giving a first,preliminary outlook on this final step: what aspects of your results do you find interesting with respect to your hypotheses and previous literature? What do you think might be the main points to elaborate upon in the discussion? "
   ]
  },
  {
   "cell_type": "code",
   "execution_count": null,
   "metadata": {},
   "outputs": [],
   "source": []
  },
  {
   "cell_type": "code",
   "execution_count": null,
   "metadata": {},
   "outputs": [],
   "source": []
  }
 ],
 "metadata": {
  "kernelspec": {
   "display_name": "Python 3",
   "language": "python",
   "name": "python3"
  },
  "language_info": {
   "codemirror_mode": {
    "name": "ipython",
    "version": 3
   },
   "file_extension": ".py",
   "mimetype": "text/x-python",
   "name": "python",
   "nbconvert_exporter": "python",
   "pygments_lexer": "ipython3",
   "version": "3.8.5"
  }
 },
 "nbformat": 4,
 "nbformat_minor": 4
}
