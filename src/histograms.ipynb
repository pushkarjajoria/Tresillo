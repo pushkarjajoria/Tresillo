{
 "cells": [
  {
   "cell_type": "code",
   "execution_count": 80,
   "metadata": {},
   "outputs": [],
   "source": [
    "import ms3 \n",
    "from  ms3.utils import *\n",
    "import os \n",
    "from ms3 import Score\n",
    "import matplotlib.pyplot as plt\n",
    "import pandas as pd"
   ]
  },
  {
   "cell_type": "code",
   "execution_count": 41,
   "metadata": {},
   "outputs": [
    {
     "name": "stdout",
     "output_type": "stream",
     "text": [
      "INFO     root -- utils.py (line 427) convert():\n",
      "\tConverted /home/nulpe/Desktop/Tresillo/dataset/tresillo midi billboards/Dont let me down-The chainsmokers, Halsey.mid to /home/nulpe/Desktop/Tresillo/dataset/tresillo midi billboards/ms3/Dont let me down-The chainsmokers, Halsey.mscx\n",
      "INFO     root -- utils.py (line 427) convert():\n",
      "\tConverted /home/nulpe/Desktop/Tresillo/dataset/tresillo midi billboards/Cheap Thrills(feat. Sean Paul)-Sia, Sean Paul.mid to /home/nulpe/Desktop/Tresillo/dataset/tresillo midi billboards/ms3/Cheap Thrills(feat. Sean Paul)-Sia, Sean Paul.mscx\n",
      "INFO     root -- utils.py (line 427) convert():\n",
      "\tConverted /home/nulpe/Desktop/Tresillo/dataset/tresillo midi billboards/New rules-Dua Lipa.mid to /home/nulpe/Desktop/Tresillo/dataset/tresillo midi billboards/ms3/New rules-Dua Lipa.mscx\n",
      "INFO     root -- utils.py (line 427) convert():\n",
      "\tConverted /home/nulpe/Desktop/Tresillo/dataset/tresillo midi billboards/Let Me Love You ft Justin Bieber-DJ Snake, Justin Bieber.mid to /home/nulpe/Desktop/Tresillo/dataset/tresillo midi billboards/ms3/Let Me Love You ft Justin Bieber-DJ Snake, Justin Bieber.mscx\n",
      "INFO     root -- utils.py (line 427) convert():\n",
      "\tConverted /home/nulpe/Desktop/Tresillo/dataset/tresillo midi billboards/Willow-Taylor Swift.mid to /home/nulpe/Desktop/Tresillo/dataset/tresillo midi billboards/ms3/Willow-Taylor Swift.mscx\n",
      "INFO     root -- utils.py (line 427) convert():\n",
      "\tConverted /home/nulpe/Desktop/Tresillo/dataset/tresillo midi billboards/Shape of you-Ed Sheran.mid to /home/nulpe/Desktop/Tresillo/dataset/tresillo midi billboards/ms3/Shape of you-Ed Sheran.mscx\n",
      "INFO     root -- utils.py (line 427) convert():\n",
      "\tConverted /home/nulpe/Desktop/Tresillo/dataset/tresillo midi billboards/Eastside-benny blanco, Halsey, Khalid.mid to /home/nulpe/Desktop/Tresillo/dataset/tresillo midi billboards/ms3/Eastside-benny blanco, Halsey, Khalid.mscx\n",
      "INFO     root -- utils.py (line 427) convert():\n",
      "\tConverted /home/nulpe/Desktop/Tresillo/dataset/tresillo midi billboards/ms3 to /home/nulpe/Desktop/Tresillo/dataset/tresillo midi billboards/ms3/.mscx\n",
      "INFO     root -- utils.py (line 427) convert():\n",
      "\tConverted /home/nulpe/Desktop/Tresillo/dataset/tresillo midi billboards/Treat you better-Shawn Mendes.mid to /home/nulpe/Desktop/Tresillo/dataset/tresillo midi billboards/ms3/Treat you better-Shawn Mendes.mscx\n",
      "INFO     root -- utils.py (line 427) convert():\n",
      "\tConverted /home/nulpe/Desktop/Tresillo/dataset/tresillo midi billboards/Rockabye-Clean Bandit, Sean Paul, Anne-Marie.mid to /home/nulpe/Desktop/Tresillo/dataset/tresillo midi billboards/ms3/Rockabye-Clean Bandit, Sean Paul, Anne-Marie.mscx\n"
     ]
    }
   ],
   "source": [
    "path_midi = '/home/nulpe/Desktop/Tresillo/dataset/tresillo midi billboards/'\n",
    "target = '/home/nulpe/Desktop/Tresillo/dataset/tresillo midi billboards/ms3/'\n",
    "\n",
    "dir_list = os.listdir(path_midi)\n",
    "\n",
    "for el in dir_list:\n",
    "    convert(path_midi+el, target+el[:-4]+'.mscx', MS='musescore3')"
   ]
  },
  {
   "cell_type": "code",
   "execution_count": 73,
   "metadata": {},
   "outputs": [],
   "source": [
    "shape_of_you = '/home/nulpe/Desktop/Tresillo/dataset/tresillo midi billboards/ms3/Shape of you-Ed Sheran.mscx'\n",
    "s = Score(shape_of_you)\n",
    "df_shape_of_you = s.mscx.notes"
   ]
  },
  {
   "cell_type": "code",
   "execution_count": 82,
   "metadata": {},
   "outputs": [
    {
     "name": "stdout",
     "output_type": "stream",
     "text": [
      "1387\n"
     ]
    }
   ],
   "source": [
    "df_shape_of_you['quarter_beats'] = (df_shape_of_you.mc_onset*16).astype('int32')\n",
    "print(len(df_shape_of_you))"
   ]
  },
  {
   "cell_type": "code",
   "execution_count": 76,
   "metadata": {},
   "outputs": [
    {
     "data": {
      "text/html": [
       "<div>\n",
       "<style scoped>\n",
       "    .dataframe tbody tr th:only-of-type {\n",
       "        vertical-align: middle;\n",
       "    }\n",
       "\n",
       "    .dataframe tbody tr th {\n",
       "        vertical-align: top;\n",
       "    }\n",
       "\n",
       "    .dataframe thead th {\n",
       "        text-align: right;\n",
       "    }\n",
       "</style>\n",
       "<table border=\"1\" class=\"dataframe\">\n",
       "  <thead>\n",
       "    <tr style=\"text-align: right;\">\n",
       "      <th></th>\n",
       "      <th>count</th>\n",
       "    </tr>\n",
       "    <tr>\n",
       "      <th>quarter_beats</th>\n",
       "      <th></th>\n",
       "    </tr>\n",
       "  </thead>\n",
       "  <tbody>\n",
       "    <tr>\n",
       "      <th>0</th>\n",
       "      <td>400</td>\n",
       "    </tr>\n",
       "    <tr>\n",
       "      <th>1</th>\n",
       "      <td>6</td>\n",
       "    </tr>\n",
       "    <tr>\n",
       "      <th>2</th>\n",
       "      <td>57</td>\n",
       "    </tr>\n",
       "    <tr>\n",
       "      <th>3</th>\n",
       "      <td>5</td>\n",
       "    </tr>\n",
       "    <tr>\n",
       "      <th>4</th>\n",
       "      <td>83</td>\n",
       "    </tr>\n",
       "    <tr>\n",
       "      <th>5</th>\n",
       "      <td>36</td>\n",
       "    </tr>\n",
       "    <tr>\n",
       "      <th>6</th>\n",
       "      <td>200</td>\n",
       "    </tr>\n",
       "    <tr>\n",
       "      <th>7</th>\n",
       "      <td>31</td>\n",
       "    </tr>\n",
       "    <tr>\n",
       "      <th>8</th>\n",
       "      <td>136</td>\n",
       "    </tr>\n",
       "    <tr>\n",
       "      <th>9</th>\n",
       "      <td>11</td>\n",
       "    </tr>\n",
       "    <tr>\n",
       "      <th>10</th>\n",
       "      <td>53</td>\n",
       "    </tr>\n",
       "    <tr>\n",
       "      <th>11</th>\n",
       "      <td>11</td>\n",
       "    </tr>\n",
       "    <tr>\n",
       "      <th>12</th>\n",
       "      <td>313</td>\n",
       "    </tr>\n",
       "    <tr>\n",
       "      <th>13</th>\n",
       "      <td>23</td>\n",
       "    </tr>\n",
       "    <tr>\n",
       "      <th>14</th>\n",
       "      <td>20</td>\n",
       "    </tr>\n",
       "    <tr>\n",
       "      <th>15</th>\n",
       "      <td>2</td>\n",
       "    </tr>\n",
       "  </tbody>\n",
       "</table>\n",
       "</div>"
      ],
      "text/plain": [
       "               count\n",
       "quarter_beats       \n",
       "0                400\n",
       "1                  6\n",
       "2                 57\n",
       "3                  5\n",
       "4                 83\n",
       "5                 36\n",
       "6                200\n",
       "7                 31\n",
       "8                136\n",
       "9                 11\n",
       "10                53\n",
       "11                11\n",
       "12               313\n",
       "13                23\n",
       "14                20\n",
       "15                 2"
      ]
     },
     "execution_count": 76,
     "metadata": {},
     "output_type": "execute_result"
    },
    {
     "data": {
      "image/png": "[encoded data removed]",
      "text/plain": [
       "<Figure size 432x288 with 1 Axes>"
      ]
     },
     "metadata": {
      "needs_background": "light"
     },
     "output_type": "display_data"
    }
   ],
   "source": [
    "df_histogram = df_shape_of_you.groupby(['quarter_beats'])['mn'].agg(['count'])\n",
    "\n",
    "plt.hist(df_shape_of_you['quarter_beats'], bins=16)\n",
    "plt.xlabel('quarter_beats')\n",
    "plt.ylabel('count')\n",
    "df_histogram"
   ]
  },
  {
   "cell_type": "code",
   "execution_count": 88,
   "metadata": {},
   "outputs": [],
   "source": [
    "#s.mscx.metadata\n",
    "dir_sheet_music = '/home/nulpe/Desktop/Tresillo/dataset/tresillo midi billboards/ms3/'\n",
    "list_sheet_music = os.listdir(dir_sheet_music)\n",
    "\n",
    "for idx, el in enumerate(list_sheet_music):\n",
    "    s = Score(dir_sheet_music+el)\n",
    "    df = s.mscx.notes\n",
    "    if idx == 0:\n",
    "        df_score = df\n",
    "    else: df_score = pd.concat([df_score, df], axis = 0)"
   ]
  },
  {
   "cell_type": "code",
   "execution_count": 89,
   "metadata": {},
   "outputs": [
    {
     "data": {
      "text/html": [
       "<div>\n",
       "<style scoped>\n",
       "    .dataframe tbody tr th:only-of-type {\n",
       "        vertical-align: middle;\n",
       "    }\n",
       "\n",
       "    .dataframe tbody tr th {\n",
       "        vertical-align: top;\n",
       "    }\n",
       "\n",
       "    .dataframe thead th {\n",
       "        text-align: right;\n",
       "    }\n",
       "</style>\n",
       "<table border=\"1\" class=\"dataframe\">\n",
       "  <thead>\n",
       "    <tr style=\"text-align: right;\">\n",
       "      <th></th>\n",
       "      <th>count</th>\n",
       "    </tr>\n",
       "    <tr>\n",
       "      <th>quarter_beats</th>\n",
       "      <th></th>\n",
       "    </tr>\n",
       "  </thead>\n",
       "  <tbody>\n",
       "    <tr>\n",
       "      <th>0</th>\n",
       "      <td>2836</td>\n",
       "    </tr>\n",
       "    <tr>\n",
       "      <th>1</th>\n",
       "      <td>671</td>\n",
       "    </tr>\n",
       "    <tr>\n",
       "      <th>2</th>\n",
       "      <td>792</td>\n",
       "    </tr>\n",
       "    <tr>\n",
       "      <th>3</th>\n",
       "      <td>931</td>\n",
       "    </tr>\n",
       "    <tr>\n",
       "      <th>4</th>\n",
       "      <td>1477</td>\n",
       "    </tr>\n",
       "    <tr>\n",
       "      <th>5</th>\n",
       "      <td>282</td>\n",
       "    </tr>\n",
       "    <tr>\n",
       "      <th>6</th>\n",
       "      <td>1218</td>\n",
       "    </tr>\n",
       "    <tr>\n",
       "      <th>7</th>\n",
       "      <td>238</td>\n",
       "    </tr>\n",
       "    <tr>\n",
       "      <th>8</th>\n",
       "      <td>1909</td>\n",
       "    </tr>\n",
       "    <tr>\n",
       "      <th>9</th>\n",
       "      <td>282</td>\n",
       "    </tr>\n",
       "    <tr>\n",
       "      <th>10</th>\n",
       "      <td>740</td>\n",
       "    </tr>\n",
       "    <tr>\n",
       "      <th>11</th>\n",
       "      <td>1011</td>\n",
       "    </tr>\n",
       "    <tr>\n",
       "      <th>12</th>\n",
       "      <td>1637</td>\n",
       "    </tr>\n",
       "    <tr>\n",
       "      <th>13</th>\n",
       "      <td>294</td>\n",
       "    </tr>\n",
       "    <tr>\n",
       "      <th>14</th>\n",
       "      <td>1260</td>\n",
       "    </tr>\n",
       "    <tr>\n",
       "      <th>15</th>\n",
       "      <td>242</td>\n",
       "    </tr>\n",
       "  </tbody>\n",
       "</table>\n",
       "</div>"
      ],
      "text/plain": [
       "               count\n",
       "quarter_beats       \n",
       "0               2836\n",
       "1                671\n",
       "2                792\n",
       "3                931\n",
       "4               1477\n",
       "5                282\n",
       "6               1218\n",
       "7                238\n",
       "8               1909\n",
       "9                282\n",
       "10               740\n",
       "11              1011\n",
       "12              1637\n",
       "13               294\n",
       "14              1260\n",
       "15               242"
      ]
     },
     "execution_count": 89,
     "metadata": {},
     "output_type": "execute_result"
    },
    {
     "data": {
      "image/png": "[encoded data removed]",
      "text/plain": [
       "<Figure size 432x288 with 1 Axes>"
      ]
     },
     "metadata": {
      "needs_background": "light"
     },
     "output_type": "display_data"
    }
   ],
   "source": [
    "df_score['quarter_beats'] = (df_score.mc_onset*16).astype('int32')\n",
    "df_histogram = df_score.groupby(['quarter_beats'])['mn'].agg(['count'])\n",
    "\n",
    "plt.hist(df_score['quarter_beats'], bins=16)\n",
    "plt.xlabel('quarter_beats')\n",
    "plt.ylabel('count')\n",
    "df_histogram"
   ]
  },
  {
   "cell_type": "code",
   "execution_count": null,
   "metadata": {},
   "outputs": [],
   "source": []
  }
 ],
 "metadata": {
  "kernelspec": {
   "display_name": "ada",
   "language": "python",
   "name": "ada"
  },
  "language_info": {
   "codemirror_mode": {
    "name": "ipython",
    "version": 3
   },
   "file_extension": ".py",
   "mimetype": "text/x-python",
   "name": "python",
   "nbconvert_exporter": "python",
   "pygments_lexer": "ipython3",
   "version": "3.8.8"
  }
 },
 "nbformat": 4,
 "nbformat_minor": 4
}
