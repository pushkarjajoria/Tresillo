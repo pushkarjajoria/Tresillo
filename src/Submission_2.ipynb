{
 "cells": [
  {
   "cell_type": "code",
   "execution_count": 41,
   "metadata": {
    "colab": {
     "base_uri": "https://localhost:8080/"
    },
    "id": "BJsxtZKJ5B6t",
    "outputId": "13490904-ec22-4497-b469-1a49312f8eea"
   },
   "outputs": [],
   "source": [
    "#import libaries and data directory\n",
    "import pandas as pd\n",
    "import os\n",
    "import selenium\n",
    "from selenium import webdriver\n",
    "import io\n",
    "import requests\n",
    "from webdriver_manager.chrome import ChromeDriverManager\n",
    "from selenium.common.exceptions import ElementClickInterceptedException\n",
    "import string\n",
    "import time\n",
    "import os\n",
    "import matplotlib.pyplot as plt\n",
    "import pretty_midi"
   ]
  },
  {
   "cell_type": "markdown",
   "metadata": {
    "id": "daI-MqpL5B6l"
   },
   "source": [
    "# 1) Data Collection representativeness\n",
    "## a) Getting a billboard MIDI dataset  \n",
    "To answer the question if more popular songs use a Tresillio like rhythm, we have to collect a data set which represents popular songs. Thus, we chose to dowload MIDI files of top 20 weekly billboard charts.  \n",
    "In this first part we are loadig a data set of the ['Hot weekly Billboard charts'](https://data.world/kcmillersean/billboard-hot-100-1958-2017), which gives us information about billboard charts (songs) from 1999-2019. Given this data set we then can collect MIDI files, which encode the mentioned billboard songs. \n",
    "However, before getting the MIDI files we have to reduce and filter the weekly charts data set, given that it first of all includes many non unique songs (songs that stay on the charts for several weeks) and given that the number of songs in huge.\n",
    "\n"
   ]
  },
  {
   "cell_type": "code",
   "execution_count": 22,
   "metadata": {
    "colab": {
     "base_uri": "https://localhost:8080/",
     "height": 328
    },
    "id": "IiDzXxyFVV6U",
    "outputId": "713c3e9f-f826-4b43-b252-ef99cafa74b6"
   },
   "outputs": [
    {
     "name": "stdout",
     "output_type": "stream",
     "text": [
      "33950\n",
      "1447\n"
     ]
    },
    {
     "data": {
      "text/html": [
       "<div>\n",
       "<style scoped>\n",
       "    .dataframe tbody tr th:only-of-type {\n",
       "        vertical-align: middle;\n",
       "    }\n",
       "\n",
       "    .dataframe tbody tr th {\n",
       "        vertical-align: top;\n",
       "    }\n",
       "\n",
       "    .dataframe thead th {\n",
       "        text-align: right;\n",
       "    }\n",
       "</style>\n",
       "<table border=\"1\" class=\"dataframe\">\n",
       "  <thead>\n",
       "    <tr style=\"text-align: right;\">\n",
       "      <th></th>\n",
       "      <th>Artists</th>\n",
       "      <th>Name</th>\n",
       "      <th>Weekly.rank</th>\n",
       "      <th>Peak.position</th>\n",
       "      <th>Weeks.on.chart</th>\n",
       "      <th>Week</th>\n",
       "      <th>Date</th>\n",
       "      <th>Genre</th>\n",
       "      <th>Writing.Credits</th>\n",
       "      <th>Lyrics</th>\n",
       "      <th>Features</th>\n",
       "    </tr>\n",
       "  </thead>\n",
       "  <tbody>\n",
       "    <tr>\n",
       "      <th>97148</th>\n",
       "      <td>Sarah McLachlan</td>\n",
       "      <td>I Will Remember You</td>\n",
       "      <td>18</td>\n",
       "      <td>18.0</td>\n",
       "      <td>29.0</td>\n",
       "      <td>1999-07-12</td>\n",
       "      <td>NaN</td>\n",
       "      <td>Pop,Rock</td>\n",
       "      <td>Dave merenda, Seamus egan, Sarah mclachlan</td>\n",
       "      <td>I Will Remember You \\nI will remember you\\nWil...</td>\n",
       "      <td>NaN</td>\n",
       "    </tr>\n",
       "    <tr>\n",
       "      <th>97134</th>\n",
       "      <td>Destiny's Child</td>\n",
       "      <td>Bills, Bills, Bills</td>\n",
       "      <td>1</td>\n",
       "      <td>1.0</td>\n",
       "      <td>5.0</td>\n",
       "      <td>1999-07-12</td>\n",
       "      <td>NaN</td>\n",
       "      <td>R&amp;;B,Rap</td>\n",
       "      <td>Beyonce, Destinys child, Kandi, Kevin sheksper...</td>\n",
       "      <td>Bills, Bills, Bills \\nAt first we started out ...</td>\n",
       "      <td>NaN</td>\n",
       "    </tr>\n",
       "    <tr>\n",
       "      <th>97141</th>\n",
       "      <td>Smash Mouth</td>\n",
       "      <td>All Star</td>\n",
       "      <td>10</td>\n",
       "      <td>10.0</td>\n",
       "      <td>9.0</td>\n",
       "      <td>1999-07-12</td>\n",
       "      <td>NaN</td>\n",
       "      <td>Punk Rock,Ska,Ska Punk,Screen,Pop-Rock,Soundtr...</td>\n",
       "      <td>Greg camp</td>\n",
       "      <td>All Star \\nSomebody once told me the world is ...</td>\n",
       "      <td>NaN</td>\n",
       "    </tr>\n",
       "    <tr>\n",
       "      <th>97139</th>\n",
       "      <td>Backstreet Boys</td>\n",
       "      <td>I Want It That Way</td>\n",
       "      <td>6</td>\n",
       "      <td>6.0</td>\n",
       "      <td>13.0</td>\n",
       "      <td>1999-07-12</td>\n",
       "      <td>NaN</td>\n",
       "      <td>Rap,Boy Band,Pop</td>\n",
       "      <td>Andreas carlsson, Max martin</td>\n",
       "      <td>I Want It That Way \\nYeah\\nYou are my fire\\nTh...</td>\n",
       "      <td>NaN</td>\n",
       "    </tr>\n",
       "    <tr>\n",
       "      <th>97137</th>\n",
       "      <td>Christina Aguilera</td>\n",
       "      <td>Genie In A Bottle</td>\n",
       "      <td>4</td>\n",
       "      <td>4.0</td>\n",
       "      <td>3.0</td>\n",
       "      <td>1999-07-12</td>\n",
       "      <td>NaN</td>\n",
       "      <td>Dance-Pop,Pop</td>\n",
       "      <td>David frank, Steve kipner, Pamela sheyne</td>\n",
       "      <td>Genie in a Bottle \\nCome on, come on\\nUh, yeah...</td>\n",
       "      <td>NaN</td>\n",
       "    </tr>\n",
       "  </tbody>\n",
       "</table>\n",
       "</div>"
      ],
      "text/plain": [
       "                  Artists  ... Features\n",
       "97148     Sarah McLachlan  ...      NaN\n",
       "97134     Destiny's Child  ...      NaN\n",
       "97141         Smash Mouth  ...      NaN\n",
       "97139     Backstreet Boys  ...      NaN\n",
       "97137  Christina Aguilera  ...      NaN\n",
       "\n",
       "[5 rows x 11 columns]"
      ]
     },
     "execution_count": 22,
     "metadata": {
      "tags": []
     },
     "output_type": "execute_result"
    }
   ],
   "source": [
    "df_billboard = pd.read_csv('billboardHot100_1999-2019.csv')#consist out of 97'225 NOT unique songs\n",
    "\n",
    "#Take only the top position of a song\n",
    "df_billboard_best_position = df_billboard[df_billboard['Peak.position'] == df_billboard['Weekly.rank']]\n",
    "print(len(df_billboard_best_position))# 33950\n",
    "\n",
    "#Lets only take songs which are min top 20\n",
    "df_billboard_selection = df_billboard_best_position[df_billboard_best_position['Peak.position'] <=20]\n",
    "\n",
    "#Delete duplicates: Song several weeks on same chart place \n",
    "df_billboard_selection = df_billboard_selection.sort_values('Week', ascending=True).drop_duplicates('Name')\n",
    "df_billboard_selection = df_billboard_selection.drop(axis=0, columns=['Unnamed: 0'])\n",
    "print(len(df_billboard_selection)) # 1447, seems like a good lenght for an initial data analysis \n",
    "\n",
    "df_billboard_selection.to_csv(dataset_root+'billboard_1999-2019_unique_top_20_selection.csv', index=False)\n",
    "\n",
    "df_billboard_selection.head(5)"
   ]
  },
  {
   "cell_type": "code",
   "execution_count": 5,
   "metadata": {
    "colab": {
     "base_uri": "https://localhost:8080/",
     "height": 206
    },
    "id": "mrG6Bopm5B6v",
    "outputId": "9cf30c63-97fd-429a-dfc2-b97cb710df8e"
   },
   "outputs": [
    {
     "data": {
      "text/html": [
       "<div>\n",
       "<style scoped>\n",
       "    .dataframe tbody tr th:only-of-type {\n",
       "        vertical-align: middle;\n",
       "    }\n",
       "\n",
       "    .dataframe tbody tr th {\n",
       "        vertical-align: top;\n",
       "    }\n",
       "\n",
       "    .dataframe thead th {\n",
       "        text-align: right;\n",
       "    }\n",
       "</style>\n",
       "<table border=\"1\" class=\"dataframe\">\n",
       "  <thead>\n",
       "    <tr style=\"text-align: right;\">\n",
       "      <th></th>\n",
       "      <th>Name</th>\n",
       "      <th>Artists</th>\n",
       "    </tr>\n",
       "  </thead>\n",
       "  <tbody>\n",
       "    <tr>\n",
       "      <th>0</th>\n",
       "      <td>I Will Remember You</td>\n",
       "      <td>Sarah McLachlan</td>\n",
       "    </tr>\n",
       "    <tr>\n",
       "      <th>1</th>\n",
       "      <td>Bills, Bills, Bills</td>\n",
       "      <td>Destiny's Child</td>\n",
       "    </tr>\n",
       "    <tr>\n",
       "      <th>2</th>\n",
       "      <td>All Star</td>\n",
       "      <td>Smash Mouth</td>\n",
       "    </tr>\n",
       "    <tr>\n",
       "      <th>3</th>\n",
       "      <td>I Want It That Way</td>\n",
       "      <td>Backstreet Boys</td>\n",
       "    </tr>\n",
       "    <tr>\n",
       "      <th>4</th>\n",
       "      <td>Genie In A Bottle</td>\n",
       "      <td>Christina Aguilera</td>\n",
       "    </tr>\n",
       "  </tbody>\n",
       "</table>\n",
       "</div>"
      ],
      "text/plain": [
       "                  Name             Artists\n",
       "0  I Will Remember You     Sarah McLachlan\n",
       "1  Bills, Bills, Bills     Destiny's Child\n",
       "2             All Star         Smash Mouth\n",
       "3   I Want It That Way     Backstreet Boys\n",
       "4    Genie In A Bottle  Christina Aguilera"
      ]
     },
     "execution_count": 5,
     "metadata": {},
     "output_type": "execute_result"
    }
   ],
   "source": [
    "#We reduced our data set to only 1447 songs, of which we can no search the MIDI files\n",
    "df_billboard_top_20 = pd.read_csv('billboard_1999-2019_unique_top_20_selection.csv')\n",
    "df_billboard_top_20[['Name', 'Artists']].head(5)"
   ]
  },
  {
   "cell_type": "markdown",
   "metadata": {
    "id": "yuTBDCfobKHj"
   },
   "source": [
    "## b) Scrapping MIDI files\n",
    "We searched quite extensively for curated bigger data sets,  which contain billboard songs. Sadly, we could only find data sets which contain billboard charts pre 2010 (e.g.: [Lakh MIDI Dataset](https://colinraffel.com/projects/lmd/)). \n",
    "However, given that we were especially intersted in more recent pop songs (post 2010), we decided that we will try to collect our own data set.  \n",
    "To obtain MIDI files of billboard charts we decided to scrape songs from the website [MIDIdb](https://www.mididb.com/genres/). MIDIdb provides free MIDI samples of a big selection of songs (especially pop songs). Those samples encode around 45 seconds of the beginning of a given song. This is a bias in our data which we have to keep in mind."
   ]
  },
  {
   "cell_type": "code",
   "execution_count": 11,
   "metadata": {
    "colab": {
     "base_uri": "https://localhost:8080/",
     "height": 106
    },
    "id": "_Rr3ejKc5B60",
    "outputId": "8af0595b-b51f-495e-bc39-2c714aa455d8"
   },
   "outputs": [
    {
     "name": "stdout",
     "output_type": "stream",
     "text": [
      "Dance With Me    song number:  51\n",
      "Miss You    song number:  101\n",
      "Lonely No More    song number:  151\n",
      "Rockstar    song number:  201\n",
      "Cowboy Casanova    song number:  251\n",
      "Paradise    song number:  301\n",
      "Holy Grail    song number:  351\n",
      "Shut Up And Dance    song number:  401\n",
      "God Is A Woman    song number:  451\n"
     ]
    }
   ],
   "source": [
    "#Given limited storage capacity the code below has been excetude on a local machine\n",
    "def tiny_file_rename(newname, folder_of_download, time_to_wait=0.5):\n",
    "  #This function renames a (MIDI) file which has just been downloaded\n",
    "    time_counter = 0\n",
    "    filename = max([f for f in os.listdir(folder_of_download)], key=lambda xa :   os.path.getctime(os.path.join(folder_of_download,xa)))\n",
    "    while '.part' in filename:\n",
    "        time.sleep(1)\n",
    "        time_counter += 1\n",
    "        if time_counter > time_to_wait:\n",
    "            raise Exception('Waited too long for file to download')\n",
    "    filename = max([f for f in os.listdir(folder_of_download)], key=lambda xa :   os.path.getctime(os.path.join(folder_of_download,xa)))\n",
    "    os.rename(os.path.join(folder_of_download, filename), os.path.join(folder_of_download, newname))\n",
    "\n",
    "\n",
    "#Here, I activate selenium and I set my dowload location \n",
    "chromeOptions = webdriver.ChromeOptions()\n",
    "download_folder = \"/home/nulpe/Desktop/Tresillo/dataset/billboard_mididb_files\"\n",
    "prefs = {\"download.default_directory\" : download_folder}\n",
    "chromeOptions.add_experimental_option(\"prefs\",prefs)\n",
    "driver = webdriver.Chrome(executable_path='/usr/bin/chromedriver', options=chromeOptions)\n",
    "\n",
    "#We download the songs given information about the artist and the name of the song\n",
    "song_names_artists = [tuple(x) for x in df_billboard_top_20[['Name', 'Artists']].values]\n",
    "base_url = 'https://www.mididb.com/search.asp?q=' \n",
    "\n",
    "\n",
    "#keep in check which songs have been dowloaded and which not\n",
    "n_downloaded = 0\n",
    "dowloaded_midi_db_bool = []\n",
    "\n",
    "\n",
    "for idx, song_name_artist in enumerate(song_names_artists):\n",
    "    \n",
    "    #No punctuation in song or artit name\n",
    "    song_name = song_name_artist[0].translate(str.maketrans('', '', string.punctuation)) #strip punctuation\n",
    "    artist_name = song_name_artist[1].translate(str.maketrans('', '', string.punctuation)) #strip punctuation\n",
    "    \n",
    "    #That's the url we need for finding the song\n",
    "    url_string = base_url + '+'.join(song_name.split())+'+'+'+'.join(artist_name.split())+'&formatID=1'\n",
    "    \n",
    "    #get the url code of the website and find the dowload page link\n",
    "    driver.get(url_string)\n",
    "    htlm_source = driver.page_source.split('\\n')\n",
    "    dowload_lines = [el for el in htlm_source if '\" style=\"text-decoration:underline;\"' in el]\n",
    "    \n",
    "    #If there is a search result take the first result (most likely match)\n",
    "    if len(dowload_lines)>0:\n",
    "        dowload_line = dowload_lines[0]\n",
    "        download_page = dowload_line[dowload_line.find('<a href=\"')+9:dowload_line.find('\" style=\"text-decoration:underline')]\n",
    "        driver.get(download_page)\n",
    "        htlm_source = driver.page_source.split('\\n')\n",
    "        dowload_midi = [el for el in htlm_source if 'Download MIDI' in el][0]\n",
    "        dowload_midi = dowload_midi[dowload_midi.find('href=\"')+6:dowload_midi.find('\">Download')]\n",
    "        \n",
    "        #save and rename the song with the song and artist name\n",
    "        midi_file = driver.get(dowload_midi)\n",
    "        time.sleep(0.5)\n",
    "        tiny_file_rename(song_name+'_'+artist_name+'.midi', download_folder)\n",
    "        \n",
    "        #keep track of which songs we have dowloaded\n",
    "        n_downloaded+=1\n",
    "        dowloaded_midi_db_bool.append(1)\n",
    "        \n",
    "        #to monitor progress\n",
    "        if n_downloaded%50 == 0:\n",
    "            print(song_name, '   song number: ', 1+n_downloaded)\n",
    "            \n",
    "    else: dowloaded_midi_db_bool.append(0)\n",
    "\n",
    "        "
   ]
  },
  {
   "cell_type": "markdown",
   "metadata": {},
   "source": [
    "## c) Analyzing the representativeness of the collected data  \n",
    "We dowloaded  456  songs, which is about  31.5%  of our whole dataset.  \n",
    "Below, we try to determine if the collected MIDI billboard sample is representative of the top 20 billboards between 1999 and 2019.  \n",
    "Thus we compare certain distributions of the downloaded/available MIDI files, and the complete billboard data.\n"
   ]
  },
  {
   "cell_type": "markdown",
   "metadata": {
    "id": "iuTM95plex9s"
   },
   "source": [
    "\n",
    "\n"
   ]
  },
  {
   "cell_type": "code",
   "execution_count": 36,
   "metadata": {
    "id": "pWeMPHEK5B62",
    "outputId": "5a97849c-24bd-4c68-f18a-398143399c8c"
   },
   "outputs": [
    {
     "name": "stdout",
     "output_type": "stream",
     "text": [
      "we dowloaded  456  songs, which is about  0.3151347615756738  of our whole dataset\n"
     ]
    },
    {
     "data": {
      "text/plain": [
       "Text(0, 0.5, 'Count')"
      ]
     },
     "execution_count": 36,
     "metadata": {},
     "output_type": "execute_result"
    },
    {
     "data": {
      "image/png": "[encoded data removed]",
      "text/plain": [
       "<Figure size 1080x360 with 2 Axes>"
      ]
     },
     "metadata": {
      "needs_background": "light"
     },
     "output_type": "display_data"
    }
   ],
   "source": [
    "#Let's explore the data set and see if it is representative of the selected billboard charts\n",
    "df_billboard_top_20 = pd.read_csv('billboard_1999-2019_unique_top_20_selection.csv')\n",
    "df_billboard_top_20['Dowloaded'] = dowloaded_midi_db_bool\n",
    "df_billboard_top_20['year'] = pd.DatetimeIndex(df_billboard_top_20.Week).year\n",
    "\n",
    "\n",
    "print('we dowloaded ', sum(dowloaded_midi_db_bool),' songs, which is about ',sum(dowloaded_midi_db_bool)/len(df_billboard_top_20), ' of our whole dataset')\n",
    "\n",
    "#save the df with download information \n",
    "df_billboard_top_20_dowloaded = df_billboard_top_20[df_billboard_top_20['Dowloaded']==1]\n",
    "df_billboard_top_20_dowloaded.to_csv('billboard_1999-2019_top_20_downloaded.csv')\n",
    "\n",
    "#let's compare songs per year with each other\n",
    "df_billboard_top_20_dowloaded_per_year = df_billboard_top_20_dowloaded.groupby(['year'])['Name'].aggregate(['count']).reset_index()\n",
    "df_billboard_top_20_per_year = df_billboard_top_20.groupby(['year'])['Name'].aggregate(['count']).reset_index()\n",
    "\n",
    "#lets plot it \n",
    "fig, axs = plt.subplots(1,2, figsize=(15,5))\n",
    "axs[0].bar(df_billboard_top_20_dowloaded_per_year.year, df_billboard_top_20_dowloaded_per_year['count'])\n",
    "axs[1].bar(df_billboard_top_20_per_year.year, df_billboard_top_20_per_year['count'])\n",
    "axs[0].set_title('Sample distribution of the midi data over time (first week in charts)')\n",
    "axs[1].set_title('Complete distribution of the billboard charts over time (first week in charts)')\n",
    "axs[0].set_xlabel('Year')\n",
    "axs[1].set_xlabel('Year')\n",
    "axs[0].set_ylabel('Count')\n"
   ]
  },
  {
   "cell_type": "markdown",
   "metadata": {},
   "source": [
    "**Discussion:**  \n",
    "There seem to be some differences between the complete distribution and the sample distribution. E.g.: very recent songs are often not avaiable.  \n",
    "However, it seems to be a good enough 'guess' of the whole data. "
   ]
  },
  {
   "cell_type": "code",
   "execution_count": 38,
   "metadata": {
    "id": "0imLMOJL5B62",
    "outputId": "5a6bba83-6263-4c79-ffd9-c444b6671bfd"
   },
   "outputs": [
    {
     "data": {
      "text/plain": [
       "Text(0, 0.5, 'Count')"
      ]
     },
     "execution_count": 38,
     "metadata": {},
     "output_type": "execute_result"
    },
    {
     "data": {
      "image/png": "[encoded data removed]",
      "text/plain": [
       "<Figure size 1080x360 with 2 Axes>"
      ]
     },
     "metadata": {
      "needs_background": "light"
     },
     "output_type": "display_data"
    }
   ],
   "source": [
    "#lets plot the distribution of the peak positions of the songs in both data sets \n",
    "df_distribution_dowloaded_peak_positions = df_billboard_top_20_dowloaded.groupby(['Peak.position'])['Name'].aggregate(['count']).reset_index()\n",
    "df_distribution__peak_positions = df_billboard_top_20.groupby(['Peak.position'])['Name'].aggregate(['count']).reset_index()\n",
    "\n",
    "#lets plot it \n",
    "fig, axs = plt.subplots(1,2, figsize=(15,5))\n",
    "axs[0].bar(pd.to_numeric(df_distribution_dowloaded_peak_positions['Peak.position']), df_distribution_dowloaded_peak_positions['count'])\n",
    "axs[1].bar(df_distribution__peak_positions['Peak.position'], df_distribution__peak_positions['count'])\n",
    "axs[0].set_title('Sample distribution of peak positions of songs')\n",
    "axs[1].set_title('Complete distribution of peak positions of billboard charts ')\n",
    "axs[0].set_xlabel('peak position')\n",
    "axs[1].set_xlabel('peak position')\n",
    "axs[0].set_ylabel('Count')"
   ]
  },
  {
   "cell_type": "markdown",
   "metadata": {},
   "source": [
    "**Discussion:**  \n",
    "Those distributions seem to match very closely. Meaning in our data set  are not more 'popular' songs then in the full distribution.  \n",
    "*note: My guess is, there are significantly more songs with peak position nr. 20, because it is 'easier to get to position 20 then position 1*"
   ]
  },
  {
   "cell_type": "code",
   "execution_count": 40,
   "metadata": {
    "id": "k9n7Zt2p5B63",
    "outputId": "73561f8f-32c0-408b-e5a2-9bfb094e8c53"
   },
   "outputs": [
    {
     "data": {
      "text/plain": [
       "Text(0, 0.5, 'Count')"
      ]
     },
     "execution_count": 40,
     "metadata": {},
     "output_type": "execute_result"
    },
    {
     "data": {
      "image/png": "[encoded data removed]",
      "text/plain": [
       "<Figure size 1080x360 with 2 Axes>"
      ]
     },
     "metadata": {
      "needs_background": "light"
     },
     "output_type": "display_data"
    }
   ],
   "source": [
    "#lets plot weeks on charts \n",
    "df_distribution_dowloaded_week_on_chart = df_billboard_top_20_dowloaded.groupby(['Weeks.on.chart'])['Name'].aggregate(['count']).reset_index()\n",
    "df_billboard_week_on_chart = df_billboard_top_20.groupby(['Weeks.on.chart'])['Name'].aggregate(['count']).reset_index()\n",
    "\n",
    "\n",
    "#lets plot it \n",
    "fig, axs = plt.subplots(1,2, figsize=(15,5))\n",
    "axs[0].bar(df_distribution_dowloaded_week_on_chart['Weeks.on.chart'], df_distribution_dowloaded_week_on_chart['count'])\n",
    "axs[1].bar(df_billboard_week_on_chart['Weeks.on.chart'], df_billboard_week_on_chart['count'])\n",
    "axs[0].set_title('Sample distribution of weeks on charts per song')\n",
    "axs[1].set_title('Complete distribution of weeks on charts per song')\n",
    "axs[0].set_xlabel('n weeks')\n",
    "axs[1].set_xlabel('n weeks')\n",
    "axs[0].set_ylabel('Count')"
   ]
  },
  {
   "cell_type": "markdown",
   "metadata": {},
   "source": [
    "**Discussion:**  \n",
    "Our sample seems to miss some outliers."
   ]
  },
  {
   "cell_type": "code",
   "execution_count": 43,
   "metadata": {
    "id": "qmx9ocoA5B64",
    "outputId": "48fd1a99-b2a6-44ed-f309-bffed276e918"
   },
   "outputs": [
    {
     "name": "stdout",
     "output_type": "stream",
     "text": [
      "44.02126228501873\n"
     ]
    }
   ],
   "source": [
    "#Let's also look quickly look at the dowloaded midi files. How long are they in average? \n",
    "list_midis = os.listdir(download_folder)\n",
    "\n",
    "length_midis = []\n",
    "\n",
    "\n",
    "for el in list_midis:\n",
    "    midi_data = pretty_midi.PrettyMIDI(download_folder+'/'+el)\n",
    "    length_midis.append(midi_data.get_end_time())\n",
    "\n",
    "print(sum(length_midis)/len(length_midis))\n",
    "    \n",
    "    "
   ]
  },
  {
   "cell_type": "markdown",
   "metadata": {},
   "source": [
    "**Discussion:**  \n",
    "The songs we dowloaded are only samples, e.i.: Around 45 sec of the beginning of the song.  \n",
    "This is a clear bias and we have to take this in account!\n",
    "\n",
    "### Fazit: Billboard data set\n",
    "We downloaded a sample of the top 20 billboard songs from 1999-2019.  \n",
    "In many respects this sample seems to be a good approximation of the complete data set. However, we will have to keep in mind that there might be inherent sampling bias.  \n",
    "Furthermore, it is very important to note that our midi files only contain the beginning of our songs (around 45 seconds)"
   ]
  },
  {
   "cell_type": "markdown",
   "metadata": {},
   "source": [
    "## d) Other data sets\n",
    "In extend to the billboard data set we collect two more small data sets:  \n",
    "- I) Tresillio MIDI data set: This small data set consist of a few (at the moment 10) hand selected songs which (for us) characterize the Tresillio rhythm. Those songs will aid us to computationally define 'Tresillio-ness'. E.i.: Give us a distribution of how a Tresillio rhythm might look like. Given this distribution we can then calculate how similar a given rhythm is to the Tresillio rythm. \n",
    "- II) Reference MIDI data set: A data set of some selected songs which certainly do not include the Tresillio rhythm. This reference corpus will serve us as a comparison corpus to the Tresillio data set. "
   ]
  },
  {
   "cell_type": "code",
   "execution_count": null,
   "metadata": {
    "id": "Nv1H7EFu5B66"
   },
   "outputs": [],
   "source": []
  },
  {
   "cell_type": "markdown",
   "metadata": {
    "id": "0bOcb8RjRvON"
   },
   "source": [
    "# 2) Data Format"
   ]
  },
  {
   "cell_type": "markdown",
   "metadata": {
    "id": "6RrnJNhSUd4k"
   },
   "source": [
    "# 3) Exploratory analysis, Discussion & Next Steps"
   ]
  }
 ],
 "metadata": {
  "colab": {
   "collapsed_sections": [
    "A4AuuA1CXx6j"
   ],
   "name": "submission_2.ipynb",
   "provenance": []
  },
  "kernelspec": {
   "display_name": "Python 3",
   "language": "python",
   "name": "python3"
  },
  "language_info": {
   "codemirror_mode": {
    "name": "ipython",
    "version": 3
   },
   "file_extension": ".py",
   "mimetype": "text/x-python",
   "name": "python",
   "nbconvert_exporter": "python",
   "pygments_lexer": "ipython3",
   "version": "3.8.5"
  }
 },
 "nbformat": 4,
 "nbformat_minor": 4
}
