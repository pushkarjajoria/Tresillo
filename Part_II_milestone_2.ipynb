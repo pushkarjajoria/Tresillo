{
  "nbformat": 4,
  "nbformat_minor": 0,
  "metadata": {
    "colab": {
      "name": "Part II milestone 2",
      "provenance": [],
      "collapsed_sections": []
    },
    "kernelspec": {
      "name": "python3",
      "display_name": "Python 3"
    },
    "language_info": {
      "name": "python"
    }
  },
  "cells": [
    {
      "cell_type": "markdown",
      "metadata": {
        "id": "mPQT9Q1XvQc6"
      },
      "source": [
        "Part 2 refers to the midi data format\n",
        "Using the package Pretty_Midi, we can easily investigate a lot of properties of the midi-files. Following some examples are made using the midi-file of the song \"Shape of you\" by Ed Sheran."
      ]
    },
    {
      "cell_type": "markdown",
      "metadata": {
        "id": "Tw2B25mc36_I"
      },
      "source": [
        "Setting everything up"
      ]
    },
    {
      "cell_type": "code",
      "metadata": {
        "id": "BMq1Uu9vvnqz"
      },
      "source": [
        "import pretty_midi as pr\n",
        "import numpy as np\n",
        "# For plotting\n",
        "import mir_eval.display\n",
        "import librosa.display\n",
        "import matplotlib.pyplot as plt\n",
        "# For putting audio in the notebook\n",
        "import IPython.display\n",
        "\n",
        "#creating a Pretty_midi object\n",
        "pm = pr.PrettyMIDI('Shape of you-Ed Sheran.mid')"
      ],
      "execution_count": null,
      "outputs": []
    },
    {
      "cell_type": "markdown",
      "metadata": {
        "id": "s0_SQiw24Dsj"
      },
      "source": [
        "Some explority of the attributes of the midi file"
      ]
    },
    {
      "cell_type": "code",
      "metadata": {
        "id": "AQojK3Jy4Ix-"
      },
      "source": [
        "#Printing out the length of the midi file in seconds. Usually midi-times come in ticks, but with knowledge about the reolution and the tempo we can convert the ticks into a time in seconds\n",
        "length = pm.get_end_time()\n",
        "\n",
        "#How to acess the information about the tempo that is saved in the midi file\n"
      ],
      "execution_count": null,
      "outputs": []
    },
    {
      "cell_type": "markdown",
      "metadata": {
        "id": "oJeQo9A4L90B"
      },
      "source": [
        "We can visualize our midi with all voices as a piano roll."
      ]
    },
    {
      "cell_type": "code",
      "metadata": {
        "id": "VsDv2XCUMWkK"
      },
      "source": [
        "def plot_piano_roll(pm, start_pitch, end_pitch, fs=100):\n",
        "    # Use librosa's specshow function for displaying the piano roll\n",
        "    librosa.display.specshow(pm.get_piano_roll(fs)[start_pitch:end_pitch],\n",
        "                             hop_length=1, sr=fs, x_axis='time', y_axis='cqt_note',\n",
        "                             fmin=pr.note_number_to_hz(start_pitch))\n",
        "    \n",
        "plt.figure(figsize=(20, 8))\n",
        "plot_piano_roll(pm, 24,84)"
      ],
      "execution_count": null,
      "outputs": []
    },
    {
      "cell_type": "markdown",
      "metadata": {
        "id": "ISs5HL53EYFf"
      },
      "source": [
        "For our analysis, we want to explore the rythm of differnet voices within the midi file. Our \"Pretty_midi\" contains all instruments in form of a \"Instrument\" object."
      ]
    },
    {
      "cell_type": "code",
      "metadata": {
        "id": "6IfwxI6OEbMD"
      },
      "source": [
        "#Instruments are labeled with numbers in the raw midi, which can be unpractical\n",
        "instrument = pm.instruments[0] #the first instrument as saved in the midi file\n",
        "instrument_name = pr.program_to_instrument_name(pm.instruments[0].program) #the name of the first instrument for intuitiv understanding"
      ],
      "execution_count": null,
      "outputs": []
    },
    {
      "cell_type": "markdown",
      "metadata": {
        "id": "h1oVH_otNAfg"
      },
      "source": [
        "Plotting the piano roll of just the xylophon."
      ]
    },
    {
      "cell_type": "code",
      "metadata": {
        "id": "wpljQlbVM2iI"
      },
      "source": [
        "plt.figure(figsize=(20, 8))\n",
        "plot_piano_roll(pm.instruments[0], 24,84)"
      ],
      "execution_count": null,
      "outputs": []
    },
    {
      "cell_type": "markdown",
      "metadata": {
        "id": "JNCSYNfmFjk8"
      },
      "source": [
        "Next, we want to explore the different notes played by each instrument. In raw midi format, a note is represented trough its onset and offset time. Our \"Pretty_midi\" object contains already each note as a \"Note\" object. "
      ]
    },
    {
      "cell_type": "code",
      "metadata": {
        "id": "8cBSD54NHaXZ"
      },
      "source": [
        "#example of all the notes of the xylophon saved in a list\n",
        "all_xylophon_notes = pm.instruments[0].notes"
      ],
      "execution_count": null,
      "outputs": []
    },
    {
      "cell_type": "markdown",
      "metadata": {
        "id": "1F7aPykMNMXJ"
      },
      "source": [
        "For our project we are especially interested in the onsets of each note. "
      ]
    },
    {
      "cell_type": "code",
      "metadata": {
        "id": "OsvCkZyMNUtg"
      },
      "source": [
        "one_single_onset = all_xylophon_notes[50].start"
      ],
      "execution_count": null,
      "outputs": []
    }
  ]
}